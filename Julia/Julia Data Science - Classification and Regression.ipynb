{
 "cells": [
  {
   "cell_type": "code",
   "execution_count": 1,
   "id": "52c24777",
   "metadata": {},
   "outputs": [],
   "source": [
    "#Classification Setup\n",
    "using GLMNet\n",
    "using RDatasets\n",
    "using MLBase\n",
    "using Plots\n",
    "using DecisionTree\n",
    "using Distances\n",
    "using NearestNeighbors\n",
    "using Random\n",
    "using LinearAlgebra\n",
    "using DataStructures\n",
    "using LIBSVM"
   ]
  },
  {
   "cell_type": "code",
   "execution_count": 13,
   "id": "f3644cb8",
   "metadata": {},
   "outputs": [
    {
     "data": {
      "text/plain": [
       "findaccuracy (generic function with 1 method)"
      ]
     },
     "execution_count": 13,
     "metadata": {},
     "output_type": "execute_result"
    }
   ],
   "source": [
    "findaccuracy(predictedvals,groundtruthvals) = sum(predictedvals.==groundtruthvals)/length(groundtruthvals)"
   ]
  },
  {
   "cell_type": "code",
   "execution_count": 2,
   "id": "2755e1ce",
   "metadata": {},
   "outputs": [
    {
     "data": {
      "text/html": [
       "<div><div style = \"float: left;\"><span>150×5 DataFrame</span></div><div style = \"float: right;\"><span style = \"font-style: italic;\">125 rows omitted</span></div><div style = \"clear: both;\"></div></div><div class = \"data-frame\" style = \"overflow-x: scroll;\"><table class = \"data-frame\" style = \"margin-bottom: 6px;\"><thead><tr class = \"header\"><th class = \"rowNumber\" style = \"font-weight: bold; text-align: right;\">Row</th><th style = \"text-align: left;\">SepalLength</th><th style = \"text-align: left;\">SepalWidth</th><th style = \"text-align: left;\">PetalLength</th><th style = \"text-align: left;\">PetalWidth</th><th style = \"text-align: left;\">Species</th></tr><tr class = \"subheader headerLastRow\"><th class = \"rowNumber\" style = \"font-weight: bold; text-align: right;\"></th><th title = \"Float64\" style = \"text-align: left;\">Float64</th><th title = \"Float64\" style = \"text-align: left;\">Float64</th><th title = \"Float64\" style = \"text-align: left;\">Float64</th><th title = \"Float64\" style = \"text-align: left;\">Float64</th><th title = \"CategoricalArrays.CategoricalValue{String, UInt8}\" style = \"text-align: left;\">Cat…</th></tr></thead><tbody><tr><td class = \"rowNumber\" style = \"font-weight: bold; text-align: right;\">1</td><td style = \"text-align: right;\">5.1</td><td style = \"text-align: right;\">3.5</td><td style = \"text-align: right;\">1.4</td><td style = \"text-align: right;\">0.2</td><td style = \"text-align: left;\">setosa</td></tr><tr><td class = \"rowNumber\" style = \"font-weight: bold; text-align: right;\">2</td><td style = \"text-align: right;\">4.9</td><td style = \"text-align: right;\">3.0</td><td style = \"text-align: right;\">1.4</td><td style = \"text-align: right;\">0.2</td><td style = \"text-align: left;\">setosa</td></tr><tr><td class = \"rowNumber\" style = \"font-weight: bold; text-align: right;\">3</td><td style = \"text-align: right;\">4.7</td><td style = \"text-align: right;\">3.2</td><td style = \"text-align: right;\">1.3</td><td style = \"text-align: right;\">0.2</td><td style = \"text-align: left;\">setosa</td></tr><tr><td class = \"rowNumber\" style = \"font-weight: bold; text-align: right;\">4</td><td style = \"text-align: right;\">4.6</td><td style = \"text-align: right;\">3.1</td><td style = \"text-align: right;\">1.5</td><td style = \"text-align: right;\">0.2</td><td style = \"text-align: left;\">setosa</td></tr><tr><td class = \"rowNumber\" style = \"font-weight: bold; text-align: right;\">5</td><td style = \"text-align: right;\">5.0</td><td style = \"text-align: right;\">3.6</td><td style = \"text-align: right;\">1.4</td><td style = \"text-align: right;\">0.2</td><td style = \"text-align: left;\">setosa</td></tr><tr><td class = \"rowNumber\" style = \"font-weight: bold; text-align: right;\">6</td><td style = \"text-align: right;\">5.4</td><td style = \"text-align: right;\">3.9</td><td style = \"text-align: right;\">1.7</td><td style = \"text-align: right;\">0.4</td><td style = \"text-align: left;\">setosa</td></tr><tr><td class = \"rowNumber\" style = \"font-weight: bold; text-align: right;\">7</td><td style = \"text-align: right;\">4.6</td><td style = \"text-align: right;\">3.4</td><td style = \"text-align: right;\">1.4</td><td style = \"text-align: right;\">0.3</td><td style = \"text-align: left;\">setosa</td></tr><tr><td class = \"rowNumber\" style = \"font-weight: bold; text-align: right;\">8</td><td style = \"text-align: right;\">5.0</td><td style = \"text-align: right;\">3.4</td><td style = \"text-align: right;\">1.5</td><td style = \"text-align: right;\">0.2</td><td style = \"text-align: left;\">setosa</td></tr><tr><td class = \"rowNumber\" style = \"font-weight: bold; text-align: right;\">9</td><td style = \"text-align: right;\">4.4</td><td style = \"text-align: right;\">2.9</td><td style = \"text-align: right;\">1.4</td><td style = \"text-align: right;\">0.2</td><td style = \"text-align: left;\">setosa</td></tr><tr><td class = \"rowNumber\" style = \"font-weight: bold; text-align: right;\">10</td><td style = \"text-align: right;\">4.9</td><td style = \"text-align: right;\">3.1</td><td style = \"text-align: right;\">1.5</td><td style = \"text-align: right;\">0.1</td><td style = \"text-align: left;\">setosa</td></tr><tr><td class = \"rowNumber\" style = \"font-weight: bold; text-align: right;\">11</td><td style = \"text-align: right;\">5.4</td><td style = \"text-align: right;\">3.7</td><td style = \"text-align: right;\">1.5</td><td style = \"text-align: right;\">0.2</td><td style = \"text-align: left;\">setosa</td></tr><tr><td class = \"rowNumber\" style = \"font-weight: bold; text-align: right;\">12</td><td style = \"text-align: right;\">4.8</td><td style = \"text-align: right;\">3.4</td><td style = \"text-align: right;\">1.6</td><td style = \"text-align: right;\">0.2</td><td style = \"text-align: left;\">setosa</td></tr><tr><td class = \"rowNumber\" style = \"font-weight: bold; text-align: right;\">13</td><td style = \"text-align: right;\">4.8</td><td style = \"text-align: right;\">3.0</td><td style = \"text-align: right;\">1.4</td><td style = \"text-align: right;\">0.1</td><td style = \"text-align: left;\">setosa</td></tr><tr><td style = \"text-align: right;\">&vellip;</td><td style = \"text-align: right;\">&vellip;</td><td style = \"text-align: right;\">&vellip;</td><td style = \"text-align: right;\">&vellip;</td><td style = \"text-align: right;\">&vellip;</td><td style = \"text-align: right;\">&vellip;</td></tr><tr><td class = \"rowNumber\" style = \"font-weight: bold; text-align: right;\">139</td><td style = \"text-align: right;\">6.0</td><td style = \"text-align: right;\">3.0</td><td style = \"text-align: right;\">4.8</td><td style = \"text-align: right;\">1.8</td><td style = \"text-align: left;\">virginica</td></tr><tr><td class = \"rowNumber\" style = \"font-weight: bold; text-align: right;\">140</td><td style = \"text-align: right;\">6.9</td><td style = \"text-align: right;\">3.1</td><td style = \"text-align: right;\">5.4</td><td style = \"text-align: right;\">2.1</td><td style = \"text-align: left;\">virginica</td></tr><tr><td class = \"rowNumber\" style = \"font-weight: bold; text-align: right;\">141</td><td style = \"text-align: right;\">6.7</td><td style = \"text-align: right;\">3.1</td><td style = \"text-align: right;\">5.6</td><td style = \"text-align: right;\">2.4</td><td style = \"text-align: left;\">virginica</td></tr><tr><td class = \"rowNumber\" style = \"font-weight: bold; text-align: right;\">142</td><td style = \"text-align: right;\">6.9</td><td style = \"text-align: right;\">3.1</td><td style = \"text-align: right;\">5.1</td><td style = \"text-align: right;\">2.3</td><td style = \"text-align: left;\">virginica</td></tr><tr><td class = \"rowNumber\" style = \"font-weight: bold; text-align: right;\">143</td><td style = \"text-align: right;\">5.8</td><td style = \"text-align: right;\">2.7</td><td style = \"text-align: right;\">5.1</td><td style = \"text-align: right;\">1.9</td><td style = \"text-align: left;\">virginica</td></tr><tr><td class = \"rowNumber\" style = \"font-weight: bold; text-align: right;\">144</td><td style = \"text-align: right;\">6.8</td><td style = \"text-align: right;\">3.2</td><td style = \"text-align: right;\">5.9</td><td style = \"text-align: right;\">2.3</td><td style = \"text-align: left;\">virginica</td></tr><tr><td class = \"rowNumber\" style = \"font-weight: bold; text-align: right;\">145</td><td style = \"text-align: right;\">6.7</td><td style = \"text-align: right;\">3.3</td><td style = \"text-align: right;\">5.7</td><td style = \"text-align: right;\">2.5</td><td style = \"text-align: left;\">virginica</td></tr><tr><td class = \"rowNumber\" style = \"font-weight: bold; text-align: right;\">146</td><td style = \"text-align: right;\">6.7</td><td style = \"text-align: right;\">3.0</td><td style = \"text-align: right;\">5.2</td><td style = \"text-align: right;\">2.3</td><td style = \"text-align: left;\">virginica</td></tr><tr><td class = \"rowNumber\" style = \"font-weight: bold; text-align: right;\">147</td><td style = \"text-align: right;\">6.3</td><td style = \"text-align: right;\">2.5</td><td style = \"text-align: right;\">5.0</td><td style = \"text-align: right;\">1.9</td><td style = \"text-align: left;\">virginica</td></tr><tr><td class = \"rowNumber\" style = \"font-weight: bold; text-align: right;\">148</td><td style = \"text-align: right;\">6.5</td><td style = \"text-align: right;\">3.0</td><td style = \"text-align: right;\">5.2</td><td style = \"text-align: right;\">2.0</td><td style = \"text-align: left;\">virginica</td></tr><tr><td class = \"rowNumber\" style = \"font-weight: bold; text-align: right;\">149</td><td style = \"text-align: right;\">6.2</td><td style = \"text-align: right;\">3.4</td><td style = \"text-align: right;\">5.4</td><td style = \"text-align: right;\">2.3</td><td style = \"text-align: left;\">virginica</td></tr><tr><td class = \"rowNumber\" style = \"font-weight: bold; text-align: right;\">150</td><td style = \"text-align: right;\">5.9</td><td style = \"text-align: right;\">3.0</td><td style = \"text-align: right;\">5.1</td><td style = \"text-align: right;\">1.8</td><td style = \"text-align: left;\">virginica</td></tr></tbody></table></div>"
      ],
      "text/latex": [
       "\\begin{tabular}{r|ccccc}\n",
       "\t& SepalLength & SepalWidth & PetalLength & PetalWidth & Species\\\\\n",
       "\t\\hline\n",
       "\t& Float64 & Float64 & Float64 & Float64 & Cat…\\\\\n",
       "\t\\hline\n",
       "\t1 & 5.1 & 3.5 & 1.4 & 0.2 & setosa \\\\\n",
       "\t2 & 4.9 & 3.0 & 1.4 & 0.2 & setosa \\\\\n",
       "\t3 & 4.7 & 3.2 & 1.3 & 0.2 & setosa \\\\\n",
       "\t4 & 4.6 & 3.1 & 1.5 & 0.2 & setosa \\\\\n",
       "\t5 & 5.0 & 3.6 & 1.4 & 0.2 & setosa \\\\\n",
       "\t6 & 5.4 & 3.9 & 1.7 & 0.4 & setosa \\\\\n",
       "\t7 & 4.6 & 3.4 & 1.4 & 0.3 & setosa \\\\\n",
       "\t8 & 5.0 & 3.4 & 1.5 & 0.2 & setosa \\\\\n",
       "\t9 & 4.4 & 2.9 & 1.4 & 0.2 & setosa \\\\\n",
       "\t10 & 4.9 & 3.1 & 1.5 & 0.1 & setosa \\\\\n",
       "\t11 & 5.4 & 3.7 & 1.5 & 0.2 & setosa \\\\\n",
       "\t12 & 4.8 & 3.4 & 1.6 & 0.2 & setosa \\\\\n",
       "\t13 & 4.8 & 3.0 & 1.4 & 0.1 & setosa \\\\\n",
       "\t14 & 4.3 & 3.0 & 1.1 & 0.1 & setosa \\\\\n",
       "\t15 & 5.8 & 4.0 & 1.2 & 0.2 & setosa \\\\\n",
       "\t16 & 5.7 & 4.4 & 1.5 & 0.4 & setosa \\\\\n",
       "\t17 & 5.4 & 3.9 & 1.3 & 0.4 & setosa \\\\\n",
       "\t18 & 5.1 & 3.5 & 1.4 & 0.3 & setosa \\\\\n",
       "\t19 & 5.7 & 3.8 & 1.7 & 0.3 & setosa \\\\\n",
       "\t20 & 5.1 & 3.8 & 1.5 & 0.3 & setosa \\\\\n",
       "\t21 & 5.4 & 3.4 & 1.7 & 0.2 & setosa \\\\\n",
       "\t22 & 5.1 & 3.7 & 1.5 & 0.4 & setosa \\\\\n",
       "\t23 & 4.6 & 3.6 & 1.0 & 0.2 & setosa \\\\\n",
       "\t24 & 5.1 & 3.3 & 1.7 & 0.5 & setosa \\\\\n",
       "\t25 & 4.8 & 3.4 & 1.9 & 0.2 & setosa \\\\\n",
       "\t26 & 5.0 & 3.0 & 1.6 & 0.2 & setosa \\\\\n",
       "\t27 & 5.0 & 3.4 & 1.6 & 0.4 & setosa \\\\\n",
       "\t28 & 5.2 & 3.5 & 1.5 & 0.2 & setosa \\\\\n",
       "\t29 & 5.2 & 3.4 & 1.4 & 0.2 & setosa \\\\\n",
       "\t30 & 4.7 & 3.2 & 1.6 & 0.2 & setosa \\\\\n",
       "\t$\\dots$ & $\\dots$ & $\\dots$ & $\\dots$ & $\\dots$ & $\\dots$ \\\\\n",
       "\\end{tabular}\n"
      ],
      "text/plain": [
       "\u001b[1m150×5 DataFrame\u001b[0m\n",
       "\u001b[1m Row \u001b[0m│\u001b[1m SepalLength \u001b[0m\u001b[1m SepalWidth \u001b[0m\u001b[1m PetalLength \u001b[0m\u001b[1m PetalWidth \u001b[0m\u001b[1m Species   \u001b[0m\n",
       "     │\u001b[90m Float64     \u001b[0m\u001b[90m Float64    \u001b[0m\u001b[90m Float64     \u001b[0m\u001b[90m Float64    \u001b[0m\u001b[90m Cat…      \u001b[0m\n",
       "─────┼─────────────────────────────────────────────────────────────\n",
       "   1 │         5.1         3.5          1.4         0.2  setosa\n",
       "   2 │         4.9         3.0          1.4         0.2  setosa\n",
       "   3 │         4.7         3.2          1.3         0.2  setosa\n",
       "   4 │         4.6         3.1          1.5         0.2  setosa\n",
       "   5 │         5.0         3.6          1.4         0.2  setosa\n",
       "   6 │         5.4         3.9          1.7         0.4  setosa\n",
       "   7 │         4.6         3.4          1.4         0.3  setosa\n",
       "   8 │         5.0         3.4          1.5         0.2  setosa\n",
       "   9 │         4.4         2.9          1.4         0.2  setosa\n",
       "  10 │         4.9         3.1          1.5         0.1  setosa\n",
       "  11 │         5.4         3.7          1.5         0.2  setosa\n",
       "  ⋮  │      ⋮           ⋮            ⋮           ⋮           ⋮\n",
       " 141 │         6.7         3.1          5.6         2.4  virginica\n",
       " 142 │         6.9         3.1          5.1         2.3  virginica\n",
       " 143 │         5.8         2.7          5.1         1.9  virginica\n",
       " 144 │         6.8         3.2          5.9         2.3  virginica\n",
       " 145 │         6.7         3.3          5.7         2.5  virginica\n",
       " 146 │         6.7         3.0          5.2         2.3  virginica\n",
       " 147 │         6.3         2.5          5.0         1.9  virginica\n",
       " 148 │         6.5         3.0          5.2         2.0  virginica\n",
       " 149 │         6.2         3.4          5.4         2.3  virginica\n",
       " 150 │         5.9         3.0          5.1         1.8  virginica\n",
       "\u001b[36m                                                   129 rows omitted\u001b[0m"
      ]
     },
     "execution_count": 2,
     "metadata": {},
     "output_type": "execute_result"
    }
   ],
   "source": [
    "iris = dataset(\"datasets\", \"iris\") #Load Iris Dataset"
   ]
  },
  {
   "cell_type": "code",
   "execution_count": 3,
   "id": "7e5e8f37",
   "metadata": {},
   "outputs": [
    {
     "data": {
      "text/plain": [
       "150-element CategoricalArrays.CategoricalArray{String,1,UInt8}:\n",
       " \"setosa\"\n",
       " \"setosa\"\n",
       " \"setosa\"\n",
       " \"setosa\"\n",
       " \"setosa\"\n",
       " \"setosa\"\n",
       " \"setosa\"\n",
       " \"setosa\"\n",
       " \"setosa\"\n",
       " \"setosa\"\n",
       " \"setosa\"\n",
       " \"setosa\"\n",
       " \"setosa\"\n",
       " ⋮\n",
       " \"virginica\"\n",
       " \"virginica\"\n",
       " \"virginica\"\n",
       " \"virginica\"\n",
       " \"virginica\"\n",
       " \"virginica\"\n",
       " \"virginica\"\n",
       " \"virginica\"\n",
       " \"virginica\"\n",
       " \"virginica\"\n",
       " \"virginica\"\n",
       " \"virginica\""
      ]
     },
     "execution_count": 3,
     "metadata": {},
     "output_type": "execute_result"
    }
   ],
   "source": [
    "X = Matrix(iris[:,1:4])\n",
    "irislabels = iris[:,5]"
   ]
  },
  {
   "cell_type": "code",
   "execution_count": 4,
   "id": "4af7a076",
   "metadata": {},
   "outputs": [
    {
     "data": {
      "text/plain": [
       "150-element Vector{Int64}:\n",
       " 1\n",
       " 1\n",
       " 1\n",
       " 1\n",
       " 1\n",
       " 1\n",
       " 1\n",
       " 1\n",
       " 1\n",
       " 1\n",
       " 1\n",
       " 1\n",
       " 1\n",
       " ⋮\n",
       " 3\n",
       " 3\n",
       " 3\n",
       " 3\n",
       " 3\n",
       " 3\n",
       " 3\n",
       " 3\n",
       " 3\n",
       " 3\n",
       " 3\n",
       " 3"
      ]
     },
     "execution_count": 4,
     "metadata": {},
     "output_type": "execute_result"
    }
   ],
   "source": [
    "irislabelsmap = labelmap(irislabels)\n",
    "y = labelencode(irislabelsmap, irislabels)"
   ]
  },
  {
   "cell_type": "code",
   "execution_count": 5,
   "id": "e4951b8b",
   "metadata": {},
   "outputs": [
    {
     "data": {
      "text/plain": [
       "perclass_splits (generic function with 1 method)"
      ]
     },
     "execution_count": 5,
     "metadata": {},
     "output_type": "execute_result"
    }
   ],
   "source": [
    "#Prepare Testing and Training Data\n",
    "function perclass_splits(y,at)\n",
    "    uids = unique(y)\n",
    "    keepids = []\n",
    "    for ui in uids\n",
    "        curids = findall(y.==ui)\n",
    "        rowids = randsubseq(curids, at) \n",
    "        push!(keepids,rowids...)\n",
    "    end\n",
    "    return keepids\n",
    "end"
   ]
  },
  {
   "cell_type": "code",
   "execution_count": 6,
   "id": "71c027be",
   "metadata": {},
   "outputs": [
    {
     "data": {
      "text/plain": [
       "38-element Vector{Any}:\n",
       "   2\n",
       "   7\n",
       "  15\n",
       "  19\n",
       "  20\n",
       "  28\n",
       "  29\n",
       "  31\n",
       "  32\n",
       "  35\n",
       "  41\n",
       "  47\n",
       "  50\n",
       "   ⋮\n",
       "  93\n",
       "  98\n",
       " 103\n",
       " 105\n",
       " 107\n",
       " 111\n",
       " 123\n",
       " 125\n",
       " 129\n",
       " 131\n",
       " 148\n",
       " 149"
      ]
     },
     "execution_count": 6,
     "metadata": {},
     "output_type": "execute_result"
    }
   ],
   "source": [
    "trainids = perclass_splits(y,0.7)\n",
    "testids = setdiff(1:length(y),trainids)"
   ]
  },
  {
   "cell_type": "code",
   "execution_count": 7,
   "id": "333d49ad",
   "metadata": {},
   "outputs": [
    {
     "data": {
      "text/plain": [
       "assign_class (generic function with 1 method)"
      ]
     },
     "execution_count": 7,
     "metadata": {},
     "output_type": "execute_result"
    }
   ],
   "source": [
    "assign_class(predictedvalue) = argmin(abs.(predictedvalue .- [1,2,3]))"
   ]
  },
  {
   "cell_type": "code",
   "execution_count": 8,
   "id": "a39f2e25",
   "metadata": {},
   "outputs": [
    {
     "data": {
      "text/plain": [
       "Least Squares GLMNet Cross Validation\n",
       "72 models for 4 predictors in 10 folds\n",
       "Best λ 0.011 (mean loss 0.051, std 0.007)"
      ]
     },
     "execution_count": 8,
     "metadata": {},
     "output_type": "execute_result"
    }
   ],
   "source": [
    "#Method 1 - Lasso\n",
    "path = glmnet(X[trainids,:], y[trainids])\n",
    "cv = glmnetcv(X[trainids,:], y[trainids])"
   ]
  },
  {
   "cell_type": "code",
   "execution_count": 9,
   "id": "e01c7a72",
   "metadata": {},
   "outputs": [],
   "source": [
    "# choose the best lambda to predict with.\n",
    "path = glmnet(X[trainids,:], y[trainids])\n",
    "cv = glmnetcv(X[trainids,:], y[trainids])\n",
    "mylambda = path.lambda[argmin(cv.meanloss)]\n",
    "\n",
    "path = glmnet(X[trainids,:], y[trainids],lambda=[mylambda]);"
   ]
  },
  {
   "cell_type": "code",
   "execution_count": 10,
   "id": "19997530",
   "metadata": {},
   "outputs": [
    {
     "data": {
      "text/plain": [
       "38×1 Matrix{Float64}:\n",
       " 0.9592738320586442\n",
       " 1.0323244500068613\n",
       " 0.7883550703367144\n",
       " 0.9870451919343719\n",
       " 0.9959350415365458\n",
       " 0.9398851532087793\n",
       " 0.9173346081743122\n",
       " 1.0173584131524371\n",
       " 1.0329272246721888\n",
       " 0.9818243770931112\n",
       " 0.9638174424924706\n",
       " 0.9664529368388384\n",
       " 0.9403128394142743\n",
       " ⋮\n",
       " 2.0955118707308267\n",
       " 2.1782059455157454\n",
       " 2.9340644706130634\n",
       " 3.02351501660139\n",
       " 2.5912567654072745\n",
       " 2.7287196429884606\n",
       " 3.0293664971538066\n",
       " 2.9139985873557643\n",
       " 2.933387266205629\n",
       " 2.85109354219185\n",
       " 2.760236440452194\n",
       " 2.994408451172717"
      ]
     },
     "execution_count": 10,
     "metadata": {},
     "output_type": "execute_result"
    }
   ],
   "source": [
    "q = X[testids,:];\n",
    "predictions_lasso = GLMNet.predict(path,q) #Predictions"
   ]
  },
  {
   "cell_type": "code",
   "execution_count": 14,
   "id": "b8275d40",
   "metadata": {},
   "outputs": [
    {
     "data": {
      "text/plain": [
       "0.9473684210526315"
      ]
     },
     "execution_count": 14,
     "metadata": {},
     "output_type": "execute_result"
    }
   ],
   "source": [
    "predictions_lasso = assign_class.(predictions_lasso)\n",
    "findaccuracy(predictions_lasso,y[testids])"
   ]
  },
  {
   "cell_type": "code",
   "execution_count": 15,
   "id": "38b6db2f",
   "metadata": {},
   "outputs": [
    {
     "data": {
      "text/plain": [
       "0.9473684210526315"
      ]
     },
     "execution_count": 15,
     "metadata": {},
     "output_type": "execute_result"
    }
   ],
   "source": [
    "#Method 2: Ridge\n",
    "path = glmnet(X[trainids,:], y[trainids],alpha=0);\n",
    "cv = glmnetcv(X[trainids,:], y[trainids],alpha=0)\n",
    "mylambda = path.lambda[argmin(cv.meanloss)]\n",
    "path = glmnet(X[trainids,:], y[trainids],alpha=0,lambda=[mylambda]);\n",
    "q = X[testids,:];\n",
    "predictions_ridge = GLMNet.predict(path,q)\n",
    "predictions_ridge = assign_class.(predictions_ridge)\n",
    "findaccuracy(predictions_ridge,y[testids])"
   ]
  },
  {
   "cell_type": "code",
   "execution_count": 16,
   "id": "eb976373",
   "metadata": {},
   "outputs": [
    {
     "data": {
      "text/plain": [
       "0.9210526315789473"
      ]
     },
     "execution_count": 16,
     "metadata": {},
     "output_type": "execute_result"
    }
   ],
   "source": [
    "#Method 3: Elastic Net\n",
    "path = glmnet(X[trainids,:], y[trainids],alpha=0.5);\n",
    "cv = glmnetcv(X[trainids,:], y[trainids],alpha=0.5)\n",
    "mylambda = path.lambda[argmin(cv.meanloss)]\n",
    "path = glmnet(X[trainids,:], y[trainids],alpha=0.5,lambda=[mylambda]);\n",
    "q = X[testids,:];\n",
    "predictions_EN = GLMNet.predict(path,q)\n",
    "predictions_EN = assign_class.(predictions_EN)\n",
    "findaccuracy(predictions_EN,y[testids])"
   ]
  },
  {
   "cell_type": "code",
   "execution_count": 17,
   "id": "a293fc24",
   "metadata": {},
   "outputs": [
    {
     "data": {
      "text/plain": [
       "DecisionTreeClassifier\n",
       "max_depth:                2\n",
       "min_samples_leaf:         1\n",
       "min_samples_split:        2\n",
       "min_purity_increase:      0.0\n",
       "pruning_purity_threshold: 1.0\n",
       "n_subfeatures:            0\n",
       "classes:                  [1, 2, 3]\n",
       "root:                     Decision Tree\n",
       "Leaves: 3\n",
       "Depth:  2"
      ]
     },
     "execution_count": 17,
     "metadata": {},
     "output_type": "execute_result"
    }
   ],
   "source": [
    "#Method 4: Decision Trees\n",
    "model = DecisionTreeClassifier(max_depth=2)\n",
    "DecisionTree.fit!(model, X[trainids,:], y[trainids])"
   ]
  },
  {
   "cell_type": "code",
   "execution_count": 19,
   "id": "3be43f3c",
   "metadata": {},
   "outputs": [
    {
     "data": {
      "text/plain": [
       "0.8947368421052632"
      ]
     },
     "execution_count": 19,
     "metadata": {},
     "output_type": "execute_result"
    }
   ],
   "source": [
    "q = X[testids,:];\n",
    "predictions_DT = DecisionTree.predict(model, q)\n",
    "findaccuracy(predictions_DT,y[testids])"
   ]
  },
  {
   "cell_type": "code",
   "execution_count": 20,
   "id": "47675964",
   "metadata": {},
   "outputs": [
    {
     "data": {
      "text/plain": [
       "RandomForestClassifier\n",
       "n_trees:             20\n",
       "n_subfeatures:       -1\n",
       "partial_sampling:    0.7\n",
       "max_depth:           -1\n",
       "min_samples_leaf:    1\n",
       "min_samples_split:   2\n",
       "min_purity_increase: 0.0\n",
       "classes:             [1, 2, 3]\n",
       "ensemble:            Ensemble of Decision Trees\n",
       "Trees:      20\n",
       "Avg Leaves: 5.45\n",
       "Avg Depth:  4.15"
      ]
     },
     "execution_count": 20,
     "metadata": {},
     "output_type": "execute_result"
    }
   ],
   "source": [
    "#Method 5: Random Forests\n",
    "model = RandomForestClassifier(n_trees=20)\n",
    "DecisionTree.fit!(model, X[trainids,:], y[trainids])"
   ]
  },
  {
   "cell_type": "code",
   "execution_count": 21,
   "id": "bb3dc1a9",
   "metadata": {},
   "outputs": [
    {
     "data": {
      "text/plain": [
       "0.9210526315789473"
      ]
     },
     "execution_count": 21,
     "metadata": {},
     "output_type": "execute_result"
    }
   ],
   "source": [
    "q = X[testids,:];\n",
    "predictions_RF = DecisionTree.predict(model, q)\n",
    "findaccuracy(predictions_RF,y[testids])"
   ]
  },
  {
   "cell_type": "code",
   "execution_count": 22,
   "id": "99822b30",
   "metadata": {},
   "outputs": [
    {
     "data": {
      "text/plain": [
       "KDTree{StaticArraysCore.SVector{4, Float64}, Euclidean, Float64}\n",
       "  Number of points: 112\n",
       "  Dimensions: 4\n",
       "  Metric: Euclidean(0.0)\n",
       "  Reordered: true"
      ]
     },
     "execution_count": 22,
     "metadata": {},
     "output_type": "execute_result"
    }
   ],
   "source": [
    "#Method 6: KNN\n",
    "Xtrain = X[trainids,:]\n",
    "ytrain = y[trainids]\n",
    "kdtree = KDTree(Xtrain')"
   ]
  },
  {
   "cell_type": "code",
   "execution_count": 23,
   "id": "a7e1ccf5",
   "metadata": {},
   "outputs": [
    {
     "data": {
      "text/plain": [
       "38×4 Matrix{Float64}:\n",
       " 4.9  3.0  1.4  0.2\n",
       " 4.6  3.4  1.4  0.3\n",
       " 5.8  4.0  1.2  0.2\n",
       " 5.7  3.8  1.7  0.3\n",
       " 5.1  3.8  1.5  0.3\n",
       " 5.2  3.5  1.5  0.2\n",
       " 5.2  3.4  1.4  0.2\n",
       " 4.8  3.1  1.6  0.2\n",
       " 5.4  3.4  1.5  0.4\n",
       " 4.9  3.1  1.5  0.2\n",
       " 5.0  3.5  1.3  0.3\n",
       " 5.1  3.8  1.6  0.2\n",
       " 5.0  3.3  1.4  0.2\n",
       " ⋮              \n",
       " 5.8  2.6  4.0  1.2\n",
       " 6.2  2.9  4.3  1.3\n",
       " 7.1  3.0  5.9  2.1\n",
       " 6.5  3.0  5.8  2.2\n",
       " 4.9  2.5  4.5  1.7\n",
       " 6.5  3.2  5.1  2.0\n",
       " 7.7  2.8  6.7  2.0\n",
       " 6.7  3.3  5.7  2.1\n",
       " 6.4  2.8  5.6  2.1\n",
       " 7.4  2.8  6.1  1.9\n",
       " 6.5  3.0  5.2  2.0\n",
       " 6.2  3.4  5.4  2.3"
      ]
     },
     "execution_count": 23,
     "metadata": {},
     "output_type": "execute_result"
    }
   ],
   "source": [
    "queries = X[testids,:]"
   ]
  },
  {
   "cell_type": "code",
   "execution_count": 24,
   "id": "d696c7f5",
   "metadata": {},
   "outputs": [
    {
     "data": {
      "text/plain": [
       "([[35, 11, 8, 21, 26], [36, 2, 10, 32, 23], [25, 14, 13, 9, 27], [5, 9, 37, 16, 14], [17, 37, 4, 15, 1], [30, 1, 15, 37, 6], [30, 1, 15, 6, 4], [23, 8, 21, 3, 35], [16, 27, 15, 9, 30], [8, 21, 35, 11, 23]  …  [92, 89, 108, 81, 95], [97, 105, 108, 81, 89], [62, 45, 65, 68, 51], [84, 110, 102, 85, 106], [76, 87, 77, 100, 92], [89, 108, 105, 81, 109], [97, 75, 80, 85, 102], [77, 92, 95, 100, 76], [80, 85, 110, 102, 84], [101, 84, 105, 102, 109]], [[0.14142135623730986, 0.1414213562373099, 0.17320508075688784, 0.22360679774997896, 0.3], [0.22360679774997871, 0.264575131106459, 0.3000000000000002, 0.3162277660168373, 0.31622776601683805], [0.412310562561766, 0.46904157598234253, 0.5477225575051663, 0.5830951894845297, 0.5916079783099616], [0.33166247903553986, 0.3872983346207415, 0.46904157598234314, 0.5099019513592783, 0.519615242270663], [0.14142135623730928, 0.2449489742783178, 0.26457513110645875, 0.31622776601683783, 0.33166247903553986], [0.14142135623730995, 0.14142135623730995, 0.17320508075688806, 0.22360679774997896, 0.22360679774997916], [0.14142135623730995, 0.14142135623730995, 0.17320508075688806, 0.22360679774997916, 0.2828427124746193], [0.1414213562373093, 0.1732050807568881, 0.22360679774997916, 0.22360679774997916, 0.24494897427831797], [0.282842712474619, 0.31622776601683783, 0.3464101615137761, 0.3605551275463992, 0.3605551275463995], [0.1, 0.17320508075688762, 0.20000000000000034, 0.20000000000000037, 0.24494897427831802]  …  [0.38729833462074187, 0.3999999999999997, 0.4123105625617659, 0.5000000000000001, 0.5196152422706635], [0.3000000000000001, 0.360555127546399, 0.3872983346207417, 0.4358898943540671, 0.46904157598234314], [0.7348469228349535, 0.761577310586391, 0.877496438739212, 0.883176086632784, 0.8831760866327841], [0.374165738677394, 0.4242640687119287, 0.46904157598234314, 0.48989794855663593, 0.5099019513592786], [0.26457513110645964, 0.4123105625617659, 0.6082762530298225, 0.7000000000000004, 0.9695359714832661], [0.2999999999999998, 0.31622776601683766, 0.374165738677394, 0.374165738677394, 0.3999999999999999], [0.10000000000000009, 0.3316624790355402, 0.374165738677394, 0.3872983346207416, 0.4358898943540675], [0.26457513110645936, 0.46904157598234325, 0.5099019513592784, 0.5385164807134504, 0.6082762530298219], [0.34641016151377513, 0.3605551275463988, 0.3605551275463989, 0.3872983346207415, 0.3872983346207415], [0.2449489742783171, 0.30000000000000016, 0.6244997998398395, 0.6244997998398396, 0.6244997998398398]])"
      ]
     },
     "execution_count": 24,
     "metadata": {},
     "output_type": "execute_result"
    }
   ],
   "source": [
    "idxs, dists = knn(kdtree, queries', 5, true)"
   ]
  },
  {
   "cell_type": "code",
   "execution_count": 25,
   "id": "139042d2",
   "metadata": {},
   "outputs": [
    {
     "data": {
      "text/plain": [
       "0.9210526315789473"
      ]
     },
     "execution_count": 25,
     "metadata": {},
     "output_type": "execute_result"
    }
   ],
   "source": [
    "c = ytrain[hcat(idxs...)]\n",
    "possible_labels = map(i->counter(c[:,i]),1:size(c,2))\n",
    "predictions_NN = map(i->parse(Int,string(string(argmax(possible_labels[i])))),1:size(c,2))\n",
    "findaccuracy(predictions_NN,y[testids])"
   ]
  },
  {
   "cell_type": "code",
   "execution_count": 26,
   "id": "22985035",
   "metadata": {},
   "outputs": [
    {
     "data": {
      "text/plain": [
       "0.9210526315789473"
      ]
     },
     "execution_count": 26,
     "metadata": {},
     "output_type": "execute_result"
    }
   ],
   "source": [
    "#Method 7: SVMs\n",
    "Xtrain = X[trainids,:]\n",
    "ytrain = y[trainids]\n",
    "\n",
    "model = svmtrain(Xtrain', ytrain)\n",
    "\n",
    "predictions_SVM, decision_values = svmpredict(model, X[testids,:]')\n",
    "findaccuracy(predictions_SVM,y[testids])    "
   ]
  },
  {
   "cell_type": "code",
   "execution_count": 27,
   "id": "b1e24a6a",
   "metadata": {},
   "outputs": [
    {
     "data": {
      "text/plain": [
       "7×2 Matrix{Any}:\n",
       " \"lasso\"  0.947368\n",
       " \"ridge\"  0.947368\n",
       " \"EN\"     0.921053\n",
       " \"DT\"     0.894737\n",
       " \"RF\"     0.921053\n",
       " \"kNN\"    0.921053\n",
       " \"SVM\"    0.921053"
      ]
     },
     "execution_count": 27,
     "metadata": {},
     "output_type": "execute_result"
    }
   ],
   "source": [
    "#Put All the results together\n",
    "overall_accuracies = zeros(7)\n",
    "methods = [\"lasso\",\"ridge\",\"EN\", \"DT\", \"RF\",\"kNN\", \"SVM\"]\n",
    "ytest = y[testids]\n",
    "overall_accuracies[1] = findaccuracy(predictions_lasso,ytest)\n",
    "overall_accuracies[2] = findaccuracy(predictions_ridge,ytest)\n",
    "overall_accuracies[3] = findaccuracy(predictions_EN,ytest)\n",
    "overall_accuracies[4] = findaccuracy(predictions_DT,ytest)\n",
    "overall_accuracies[5] = findaccuracy(predictions_RF,ytest)\n",
    "overall_accuracies[6] = findaccuracy(predictions_NN,ytest)\n",
    "overall_accuracies[7] = findaccuracy(predictions_SVM,ytest)\n",
    "hcat(methods, overall_accuracies)"
   ]
  },
  {
   "cell_type": "code",
   "execution_count": 30,
   "id": "722be1e8",
   "metadata": {},
   "outputs": [],
   "source": [
    "#Packages for Regression\n",
    "using Plots\n",
    "using Statistics\n",
    "using StatsBase\n",
    "using PyCall\n",
    "using DataFrames\n",
    "using GLM\n",
    "using Tables\n",
    "using XLSX\n",
    "using MLBase\n",
    "using RDatasets\n",
    "using LsqFit"
   ]
  },
  {
   "cell_type": "code",
   "execution_count": 31,
   "id": "83c43be3",
   "metadata": {},
   "outputs": [
    {
     "data": {
      "image/svg+xml": [
       "<?xml version=\"1.0\" encoding=\"utf-8\"?>\n",
       "<svg xmlns=\"http://www.w3.org/2000/svg\" xmlns:xlink=\"http://www.w3.org/1999/xlink\" width=\"600\" height=\"400\" viewBox=\"0 0 2400 1600\">\n",
       "<defs>\n",
       "  <clipPath id=\"clip750\">\n",
       "    <rect x=\"0\" y=\"0\" width=\"2400\" height=\"1600\"/>\n",
       "  </clipPath>\n",
       "</defs>\n",
       "<path clip-path=\"url(#clip750)\" d=\"\n",
       "M0 1600 L2400 1600 L2400 0 L0 0  Z\n",
       "  \" fill=\"#ffffff\" fill-rule=\"evenodd\" fill-opacity=\"1\"/>\n",
       "<defs>\n",
       "  <clipPath id=\"clip751\">\n",
       "    <rect x=\"480\" y=\"0\" width=\"1681\" height=\"1600\"/>\n",
       "  </clipPath>\n",
       "</defs>\n",
       "<path clip-path=\"url(#clip750)\" d=\"\n",
       "M138.959 1486.45 L2352.76 1486.45 L2352.76 47.2441 L138.959 47.2441  Z\n",
       "  \" fill=\"#ffffff\" fill-rule=\"evenodd\" fill-opacity=\"1\"/>\n",
       "<defs>\n",
       "  <clipPath id=\"clip752\">\n",
       "    <rect x=\"138\" y=\"47\" width=\"2215\" height=\"1440\"/>\n",
       "  </clipPath>\n",
       "</defs>\n",
       "<polyline clip-path=\"url(#clip752)\" style=\"stroke:#000000; stroke-linecap:round; stroke-linejoin:round; stroke-width:2; stroke-opacity:0.1; fill:none\" points=\"\n",
       "  433.668,1486.45 433.668,47.2441 \n",
       "  \"/>\n",
       "<polyline clip-path=\"url(#clip752)\" style=\"stroke:#000000; stroke-linecap:round; stroke-linejoin:round; stroke-width:2; stroke-opacity:0.1; fill:none\" points=\"\n",
       "  897.776,1486.45 897.776,47.2441 \n",
       "  \"/>\n",
       "<polyline clip-path=\"url(#clip752)\" style=\"stroke:#000000; stroke-linecap:round; stroke-linejoin:round; stroke-width:2; stroke-opacity:0.1; fill:none\" points=\"\n",
       "  1361.88,1486.45 1361.88,47.2441 \n",
       "  \"/>\n",
       "<polyline clip-path=\"url(#clip752)\" style=\"stroke:#000000; stroke-linecap:round; stroke-linejoin:round; stroke-width:2; stroke-opacity:0.1; fill:none\" points=\"\n",
       "  1825.99,1486.45 1825.99,47.2441 \n",
       "  \"/>\n",
       "<polyline clip-path=\"url(#clip752)\" style=\"stroke:#000000; stroke-linecap:round; stroke-linejoin:round; stroke-width:2; stroke-opacity:0.1; fill:none\" points=\"\n",
       "  2290.1,1486.45 2290.1,47.2441 \n",
       "  \"/>\n",
       "<polyline clip-path=\"url(#clip750)\" style=\"stroke:#000000; stroke-linecap:round; stroke-linejoin:round; stroke-width:4; stroke-opacity:1; fill:none\" points=\"\n",
       "  138.959,1486.45 2352.76,1486.45 \n",
       "  \"/>\n",
       "<polyline clip-path=\"url(#clip750)\" style=\"stroke:#000000; stroke-linecap:round; stroke-linejoin:round; stroke-width:4; stroke-opacity:1; fill:none\" points=\"\n",
       "  433.668,1486.45 433.668,1467.55 \n",
       "  \"/>\n",
       "<polyline clip-path=\"url(#clip750)\" style=\"stroke:#000000; stroke-linecap:round; stroke-linejoin:round; stroke-width:4; stroke-opacity:1; fill:none\" points=\"\n",
       "  897.776,1486.45 897.776,1467.55 \n",
       "  \"/>\n",
       "<polyline clip-path=\"url(#clip750)\" style=\"stroke:#000000; stroke-linecap:round; stroke-linejoin:round; stroke-width:4; stroke-opacity:1; fill:none\" points=\"\n",
       "  1361.88,1486.45 1361.88,1467.55 \n",
       "  \"/>\n",
       "<polyline clip-path=\"url(#clip750)\" style=\"stroke:#000000; stroke-linecap:round; stroke-linejoin:round; stroke-width:4; stroke-opacity:1; fill:none\" points=\"\n",
       "  1825.99,1486.45 1825.99,1467.55 \n",
       "  \"/>\n",
       "<polyline clip-path=\"url(#clip750)\" style=\"stroke:#000000; stroke-linecap:round; stroke-linejoin:round; stroke-width:4; stroke-opacity:1; fill:none\" points=\"\n",
       "  2290.1,1486.45 2290.1,1467.55 \n",
       "  \"/>\n",
       "<path clip-path=\"url(#clip750)\" d=\"M428.321 1544.91 L444.64 1544.91 L444.64 1548.85 L422.696 1548.85 L422.696 1544.91 Q425.358 1542.16 429.941 1537.53 Q434.548 1532.88 435.728 1531.53 Q437.974 1529.01 438.853 1527.27 Q439.756 1525.51 439.756 1523.82 Q439.756 1521.07 437.812 1519.33 Q435.89 1517.6 432.789 1517.6 Q430.59 1517.6 428.136 1518.36 Q425.705 1519.13 422.928 1520.68 L422.928 1515.95 Q425.752 1514.82 428.205 1514.24 Q430.659 1513.66 432.696 1513.66 Q438.066 1513.66 441.261 1516.35 Q444.455 1519.03 444.455 1523.52 Q444.455 1525.65 443.645 1527.57 Q442.858 1529.47 440.751 1532.07 Q440.173 1532.74 437.071 1535.95 Q433.969 1539.15 428.321 1544.91 Z\" fill=\"#000000\" fill-rule=\"evenodd\" fill-opacity=\"1\" /><path clip-path=\"url(#clip750)\" d=\"M900.786 1518.36 L888.98 1536.81 L900.786 1536.81 L900.786 1518.36 M899.559 1514.29 L905.438 1514.29 L905.438 1536.81 L910.369 1536.81 L910.369 1540.7 L905.438 1540.7 L905.438 1548.85 L900.786 1548.85 L900.786 1540.7 L885.184 1540.7 L885.184 1536.19 L899.559 1514.29 Z\" fill=\"#000000\" fill-rule=\"evenodd\" fill-opacity=\"1\" /><path clip-path=\"url(#clip750)\" d=\"M1362.29 1529.7 Q1359.14 1529.7 1357.29 1531.86 Q1355.46 1534.01 1355.46 1537.76 Q1355.46 1541.49 1357.29 1543.66 Q1359.14 1545.82 1362.29 1545.82 Q1365.44 1545.82 1367.27 1543.66 Q1369.12 1541.49 1369.12 1537.76 Q1369.12 1534.01 1367.27 1531.86 Q1365.44 1529.7 1362.29 1529.7 M1371.57 1515.05 L1371.57 1519.31 Q1369.81 1518.48 1368.01 1518.04 Q1366.22 1517.6 1364.47 1517.6 Q1359.84 1517.6 1357.38 1520.72 Q1354.95 1523.85 1354.6 1530.17 Q1355.97 1528.15 1358.03 1527.09 Q1360.09 1526 1362.57 1526 Q1367.78 1526 1370.79 1529.17 Q1373.82 1532.32 1373.82 1537.76 Q1373.82 1543.08 1370.67 1546.3 Q1367.52 1549.52 1362.29 1549.52 Q1356.29 1549.52 1353.12 1544.94 Q1349.95 1540.33 1349.95 1531.6 Q1349.95 1523.41 1353.84 1518.55 Q1357.73 1513.66 1364.28 1513.66 Q1366.04 1513.66 1367.82 1514.01 Q1369.63 1514.36 1371.57 1515.05 Z\" fill=\"#000000\" fill-rule=\"evenodd\" fill-opacity=\"1\" /><path clip-path=\"url(#clip750)\" d=\"M1825.99 1532.44 Q1822.66 1532.44 1820.74 1534.22 Q1818.84 1536 1818.84 1539.13 Q1818.84 1542.25 1820.74 1544.03 Q1822.66 1545.82 1825.99 1545.82 Q1829.33 1545.82 1831.25 1544.03 Q1833.17 1542.23 1833.17 1539.13 Q1833.17 1536 1831.25 1534.22 Q1829.35 1532.44 1825.99 1532.44 M1821.32 1530.45 Q1818.31 1529.7 1816.62 1527.64 Q1814.95 1525.58 1814.95 1522.62 Q1814.95 1518.48 1817.89 1516.07 Q1820.85 1513.66 1825.99 1513.66 Q1831.16 1513.66 1834.09 1516.07 Q1837.03 1518.48 1837.03 1522.62 Q1837.03 1525.58 1835.34 1527.64 Q1833.68 1529.7 1830.69 1530.45 Q1834.07 1531.23 1835.95 1533.52 Q1837.84 1535.82 1837.84 1539.13 Q1837.84 1544.15 1834.77 1546.83 Q1831.71 1549.52 1825.99 1549.52 Q1820.28 1549.52 1817.2 1546.83 Q1814.14 1544.15 1814.14 1539.13 Q1814.14 1535.82 1816.04 1533.52 Q1817.94 1531.23 1821.32 1530.45 M1819.6 1523.06 Q1819.6 1525.75 1821.27 1527.25 Q1822.96 1528.76 1825.99 1528.76 Q1829 1528.76 1830.69 1527.25 Q1832.41 1525.75 1832.41 1523.06 Q1832.41 1520.38 1830.69 1518.87 Q1829 1517.37 1825.99 1517.37 Q1822.96 1517.37 1821.27 1518.87 Q1819.6 1520.38 1819.6 1523.06 Z\" fill=\"#000000\" fill-rule=\"evenodd\" fill-opacity=\"1\" /><path clip-path=\"url(#clip750)\" d=\"M2264.79 1544.91 L2272.43 1544.91 L2272.43 1518.55 L2264.12 1520.21 L2264.12 1515.95 L2272.38 1514.29 L2277.06 1514.29 L2277.06 1544.91 L2284.7 1544.91 L2284.7 1548.85 L2264.79 1548.85 L2264.79 1544.91 Z\" fill=\"#000000\" fill-rule=\"evenodd\" fill-opacity=\"1\" /><path clip-path=\"url(#clip750)\" d=\"M2304.14 1517.37 Q2300.53 1517.37 2298.7 1520.93 Q2296.9 1524.47 2296.9 1531.6 Q2296.9 1538.71 2298.7 1542.27 Q2300.53 1545.82 2304.14 1545.82 Q2307.77 1545.82 2309.58 1542.27 Q2311.41 1538.71 2311.41 1531.6 Q2311.41 1524.47 2309.58 1520.93 Q2307.77 1517.37 2304.14 1517.37 M2304.14 1513.66 Q2309.95 1513.66 2313.01 1518.27 Q2316.08 1522.85 2316.08 1531.6 Q2316.08 1540.33 2313.01 1544.94 Q2309.95 1549.52 2304.14 1549.52 Q2298.33 1549.52 2295.25 1544.94 Q2292.2 1540.33 2292.2 1531.6 Q2292.2 1522.85 2295.25 1518.27 Q2298.33 1513.66 2304.14 1513.66 Z\" fill=\"#000000\" fill-rule=\"evenodd\" fill-opacity=\"1\" /><polyline clip-path=\"url(#clip752)\" style=\"stroke:#000000; stroke-linecap:round; stroke-linejoin:round; stroke-width:2; stroke-opacity:0.1; fill:none\" points=\"\n",
       "  138.959,1380.81 2352.76,1380.81 \n",
       "  \"/>\n",
       "<polyline clip-path=\"url(#clip752)\" style=\"stroke:#000000; stroke-linecap:round; stroke-linejoin:round; stroke-width:2; stroke-opacity:0.1; fill:none\" points=\"\n",
       "  138.959,1089.52 2352.76,1089.52 \n",
       "  \"/>\n",
       "<polyline clip-path=\"url(#clip752)\" style=\"stroke:#000000; stroke-linecap:round; stroke-linejoin:round; stroke-width:2; stroke-opacity:0.1; fill:none\" points=\"\n",
       "  138.959,798.227 2352.76,798.227 \n",
       "  \"/>\n",
       "<polyline clip-path=\"url(#clip752)\" style=\"stroke:#000000; stroke-linecap:round; stroke-linejoin:round; stroke-width:2; stroke-opacity:0.1; fill:none\" points=\"\n",
       "  138.959,506.934 2352.76,506.934 \n",
       "  \"/>\n",
       "<polyline clip-path=\"url(#clip752)\" style=\"stroke:#000000; stroke-linecap:round; stroke-linejoin:round; stroke-width:2; stroke-opacity:0.1; fill:none\" points=\"\n",
       "  138.959,215.64 2352.76,215.64 \n",
       "  \"/>\n",
       "<polyline clip-path=\"url(#clip750)\" style=\"stroke:#000000; stroke-linecap:round; stroke-linejoin:round; stroke-width:4; stroke-opacity:1; fill:none\" points=\"\n",
       "  138.959,1486.45 138.959,47.2441 \n",
       "  \"/>\n",
       "<polyline clip-path=\"url(#clip750)\" style=\"stroke:#000000; stroke-linecap:round; stroke-linejoin:round; stroke-width:4; stroke-opacity:1; fill:none\" points=\"\n",
       "  138.959,1380.81 157.857,1380.81 \n",
       "  \"/>\n",
       "<polyline clip-path=\"url(#clip750)\" style=\"stroke:#000000; stroke-linecap:round; stroke-linejoin:round; stroke-width:4; stroke-opacity:1; fill:none\" points=\"\n",
       "  138.959,1089.52 157.857,1089.52 \n",
       "  \"/>\n",
       "<polyline clip-path=\"url(#clip750)\" style=\"stroke:#000000; stroke-linecap:round; stroke-linejoin:round; stroke-width:4; stroke-opacity:1; fill:none\" points=\"\n",
       "  138.959,798.227 157.857,798.227 \n",
       "  \"/>\n",
       "<polyline clip-path=\"url(#clip750)\" style=\"stroke:#000000; stroke-linecap:round; stroke-linejoin:round; stroke-width:4; stroke-opacity:1; fill:none\" points=\"\n",
       "  138.959,506.934 157.857,506.934 \n",
       "  \"/>\n",
       "<polyline clip-path=\"url(#clip750)\" style=\"stroke:#000000; stroke-linecap:round; stroke-linejoin:round; stroke-width:4; stroke-opacity:1; fill:none\" points=\"\n",
       "  138.959,215.64 157.857,215.64 \n",
       "  \"/>\n",
       "<path clip-path=\"url(#clip750)\" d=\"M93.3762 1367.61 L81.5707 1386.06 L93.3762 1386.06 L93.3762 1367.61 M92.1493 1363.53 L98.0289 1363.53 L98.0289 1386.06 L102.959 1386.06 L102.959 1389.95 L98.0289 1389.95 L98.0289 1398.09 L93.3762 1398.09 L93.3762 1389.95 L77.7744 1389.95 L77.7744 1385.43 L92.1493 1363.53 Z\" fill=\"#000000\" fill-rule=\"evenodd\" fill-opacity=\"1\" /><path clip-path=\"url(#clip750)\" d=\"M91.4317 1087.66 Q88.2836 1087.66 86.4318 1089.81 Q84.6031 1091.96 84.6031 1095.71 Q84.6031 1099.44 86.4318 1101.62 Q88.2836 1103.77 91.4317 1103.77 Q94.5799 1103.77 96.4085 1101.62 Q98.2604 1099.44 98.2604 1095.71 Q98.2604 1091.96 96.4085 1089.81 Q94.5799 1087.66 91.4317 1087.66 M100.714 1073 L100.714 1077.26 Q98.9548 1076.43 97.1493 1075.99 Q95.3669 1075.55 93.6076 1075.55 Q88.978 1075.55 86.5243 1078.68 Q84.0938 1081.8 83.7466 1088.12 Q85.1123 1086.11 87.1725 1085.04 Q89.2327 1083.95 91.7095 1083.95 Q96.9178 1083.95 99.927 1087.12 Q102.959 1090.27 102.959 1095.71 Q102.959 1101.04 99.8113 1104.25 Q96.6632 1107.47 91.4317 1107.47 Q85.4364 1107.47 82.2651 1102.89 Q79.0938 1098.28 79.0938 1089.56 Q79.0938 1081.36 82.9827 1076.5 Q86.8716 1071.62 93.4225 1071.62 Q95.1817 1071.62 96.9641 1071.96 Q98.7696 1072.31 100.714 1073 Z\" fill=\"#000000\" fill-rule=\"evenodd\" fill-opacity=\"1\" /><path clip-path=\"url(#clip750)\" d=\"M91.1077 799.095 Q87.7743 799.095 85.8531 800.878 Q83.9549 802.66 83.9549 805.785 Q83.9549 808.91 85.8531 810.692 Q87.7743 812.475 91.1077 812.475 Q94.441 812.475 96.3623 810.692 Q98.2835 808.887 98.2835 805.785 Q98.2835 802.66 96.3623 800.878 Q94.4641 799.095 91.1077 799.095 M86.4318 797.104 Q83.4225 796.364 81.7327 794.304 Q80.066 792.243 80.066 789.28 Q80.066 785.137 83.0058 782.73 Q85.9688 780.322 91.1077 780.322 Q96.2697 780.322 99.2095 782.73 Q102.149 785.137 102.149 789.28 Q102.149 792.243 100.459 794.304 Q98.7928 796.364 95.8067 797.104 Q99.1863 797.891 101.061 800.183 Q102.959 802.475 102.959 805.785 Q102.959 810.808 99.8808 813.493 Q96.8252 816.178 91.1077 816.178 Q85.3901 816.178 82.3114 813.493 Q79.2559 810.808 79.2559 805.785 Q79.2559 802.475 81.154 800.183 Q83.0521 797.891 86.4318 797.104 M84.7188 789.72 Q84.7188 792.405 86.3855 793.91 Q88.0753 795.415 91.1077 795.415 Q94.1169 795.415 95.8067 793.91 Q97.5197 792.405 97.5197 789.72 Q97.5197 787.035 95.8067 785.53 Q94.1169 784.026 91.1077 784.026 Q88.0753 784.026 86.3855 785.53 Q84.7188 787.035 84.7188 789.72 Z\" fill=\"#000000\" fill-rule=\"evenodd\" fill-opacity=\"1\" /><path clip-path=\"url(#clip750)\" d=\"M51.6634 520.278 L59.3023 520.278 L59.3023 493.913 L50.9921 495.579 L50.9921 491.32 L59.256 489.654 L63.9319 489.654 L63.9319 520.278 L71.5707 520.278 L71.5707 524.214 L51.6634 524.214 L51.6634 520.278 Z\" fill=\"#000000\" fill-rule=\"evenodd\" fill-opacity=\"1\" /><path clip-path=\"url(#clip750)\" d=\"M91.0151 492.732 Q87.404 492.732 85.5753 496.297 Q83.7697 499.839 83.7697 506.968 Q83.7697 514.075 85.5753 517.639 Q87.404 521.181 91.0151 521.181 Q94.6493 521.181 96.4548 517.639 Q98.2835 514.075 98.2835 506.968 Q98.2835 499.839 96.4548 496.297 Q94.6493 492.732 91.0151 492.732 M91.0151 489.029 Q96.8252 489.029 99.8808 493.635 Q102.959 498.218 102.959 506.968 Q102.959 515.695 99.8808 520.301 Q96.8252 524.885 91.0151 524.885 Q85.2049 524.885 82.1262 520.301 Q79.0707 515.695 79.0707 506.968 Q79.0707 498.218 82.1262 493.635 Q85.2049 489.029 91.0151 489.029 Z\" fill=\"#000000\" fill-rule=\"evenodd\" fill-opacity=\"1\" /><path clip-path=\"url(#clip750)\" d=\"M53.2606 228.985 L60.8995 228.985 L60.8995 202.619 L52.5893 204.286 L52.5893 200.027 L60.8532 198.36 L65.5291 198.36 L65.5291 228.985 L73.1679 228.985 L73.1679 232.92 L53.2606 232.92 L53.2606 228.985 Z\" fill=\"#000000\" fill-rule=\"evenodd\" fill-opacity=\"1\" /><path clip-path=\"url(#clip750)\" d=\"M86.6401 228.985 L102.959 228.985 L102.959 232.92 L81.0151 232.92 L81.0151 228.985 Q83.6771 226.23 88.2604 221.601 Q92.8669 216.948 94.0475 215.605 Q96.2928 213.082 97.1724 211.346 Q98.0752 209.587 98.0752 207.897 Q98.0752 205.142 96.1308 203.406 Q94.2095 201.67 91.1077 201.67 Q88.9086 201.67 86.4549 202.434 Q84.0244 203.198 81.2466 204.749 L81.2466 200.027 Q84.0707 198.892 86.5243 198.314 Q88.978 197.735 91.0151 197.735 Q96.3854 197.735 99.5798 200.42 Q102.774 203.105 102.774 207.596 Q102.774 209.726 101.964 211.647 Q101.177 213.545 99.0706 216.138 Q98.4919 216.809 95.39 220.026 Q92.2882 223.221 86.6401 228.985 Z\" fill=\"#000000\" fill-rule=\"evenodd\" fill-opacity=\"1\" /><circle clip-path=\"url(#clip752)\" cx=\"201.614\" cy=\"1369.76\" r=\"14.4\" fill=\"#000000\" fill-rule=\"evenodd\" fill-opacity=\"1\" stroke=\"none\"/>\n",
       "<circle clip-path=\"url(#clip752)\" cx=\"201.614\" cy=\"1263.48\" r=\"14.4\" fill=\"#000000\" fill-rule=\"evenodd\" fill-opacity=\"1\" stroke=\"none\"/>\n",
       "<circle clip-path=\"url(#clip752)\" cx=\"317.641\" cy=\"1352.1\" r=\"14.4\" fill=\"#000000\" fill-rule=\"evenodd\" fill-opacity=\"1\" stroke=\"none\"/>\n",
       "<circle clip-path=\"url(#clip752)\" cx=\"317.641\" cy=\"1445.72\" r=\"14.4\" fill=\"#000000\" fill-rule=\"evenodd\" fill-opacity=\"1\" stroke=\"none\"/>\n",
       "<circle clip-path=\"url(#clip752)\" cx=\"433.668\" cy=\"1239.24\" r=\"14.4\" fill=\"#000000\" fill-rule=\"evenodd\" fill-opacity=\"1\" stroke=\"none\"/>\n",
       "<circle clip-path=\"url(#clip752)\" cx=\"433.668\" cy=\"1223.25\" r=\"14.4\" fill=\"#000000\" fill-rule=\"evenodd\" fill-opacity=\"1\" stroke=\"none\"/>\n",
       "<circle clip-path=\"url(#clip752)\" cx=\"549.695\" cy=\"1101.19\" r=\"14.4\" fill=\"#000000\" fill-rule=\"evenodd\" fill-opacity=\"1\" stroke=\"none\"/>\n",
       "<circle clip-path=\"url(#clip752)\" cx=\"549.695\" cy=\"1144.58\" r=\"14.4\" fill=\"#000000\" fill-rule=\"evenodd\" fill-opacity=\"1\" stroke=\"none\"/>\n",
       "<circle clip-path=\"url(#clip752)\" cx=\"665.722\" cy=\"1044.42\" r=\"14.4\" fill=\"#000000\" fill-rule=\"evenodd\" fill-opacity=\"1\" stroke=\"none\"/>\n",
       "<circle clip-path=\"url(#clip752)\" cx=\"665.722\" cy=\"1113.36\" r=\"14.4\" fill=\"#000000\" fill-rule=\"evenodd\" fill-opacity=\"1\" stroke=\"none\"/>\n",
       "<circle clip-path=\"url(#clip752)\" cx=\"781.749\" cy=\"888.842\" r=\"14.4\" fill=\"#000000\" fill-rule=\"evenodd\" fill-opacity=\"1\" stroke=\"none\"/>\n",
       "<circle clip-path=\"url(#clip752)\" cx=\"781.749\" cy=\"945.057\" r=\"14.4\" fill=\"#000000\" fill-rule=\"evenodd\" fill-opacity=\"1\" stroke=\"none\"/>\n",
       "<circle clip-path=\"url(#clip752)\" cx=\"897.776\" cy=\"907.737\" r=\"14.4\" fill=\"#000000\" fill-rule=\"evenodd\" fill-opacity=\"1\" stroke=\"none\"/>\n",
       "<circle clip-path=\"url(#clip752)\" cx=\"897.776\" cy=\"1007.15\" r=\"14.4\" fill=\"#000000\" fill-rule=\"evenodd\" fill-opacity=\"1\" stroke=\"none\"/>\n",
       "<circle clip-path=\"url(#clip752)\" cx=\"1013.8\" cy=\"902.396\" r=\"14.4\" fill=\"#000000\" fill-rule=\"evenodd\" fill-opacity=\"1\" stroke=\"none\"/>\n",
       "<circle clip-path=\"url(#clip752)\" cx=\"1013.8\" cy=\"884.621\" r=\"14.4\" fill=\"#000000\" fill-rule=\"evenodd\" fill-opacity=\"1\" stroke=\"none\"/>\n",
       "<circle clip-path=\"url(#clip752)\" cx=\"1129.83\" cy=\"652.823\" r=\"14.4\" fill=\"#000000\" fill-rule=\"evenodd\" fill-opacity=\"1\" stroke=\"none\"/>\n",
       "<circle clip-path=\"url(#clip752)\" cx=\"1129.83\" cy=\"883.899\" r=\"14.4\" fill=\"#000000\" fill-rule=\"evenodd\" fill-opacity=\"1\" stroke=\"none\"/>\n",
       "<circle clip-path=\"url(#clip752)\" cx=\"1245.86\" cy=\"834.386\" r=\"14.4\" fill=\"#000000\" fill-rule=\"evenodd\" fill-opacity=\"1\" stroke=\"none\"/>\n",
       "<circle clip-path=\"url(#clip752)\" cx=\"1245.86\" cy=\"706.017\" r=\"14.4\" fill=\"#000000\" fill-rule=\"evenodd\" fill-opacity=\"1\" stroke=\"none\"/>\n",
       "<circle clip-path=\"url(#clip752)\" cx=\"1361.88\" cy=\"659.817\" r=\"14.4\" fill=\"#000000\" fill-rule=\"evenodd\" fill-opacity=\"1\" stroke=\"none\"/>\n",
       "<circle clip-path=\"url(#clip752)\" cx=\"1361.88\" cy=\"732.932\" r=\"14.4\" fill=\"#000000\" fill-rule=\"evenodd\" fill-opacity=\"1\" stroke=\"none\"/>\n",
       "<circle clip-path=\"url(#clip752)\" cx=\"1477.91\" cy=\"470.513\" r=\"14.4\" fill=\"#000000\" fill-rule=\"evenodd\" fill-opacity=\"1\" stroke=\"none\"/>\n",
       "<circle clip-path=\"url(#clip752)\" cx=\"1477.91\" cy=\"724.065\" r=\"14.4\" fill=\"#000000\" fill-rule=\"evenodd\" fill-opacity=\"1\" stroke=\"none\"/>\n",
       "<circle clip-path=\"url(#clip752)\" cx=\"1593.94\" cy=\"648.093\" r=\"14.4\" fill=\"#000000\" fill-rule=\"evenodd\" fill-opacity=\"1\" stroke=\"none\"/>\n",
       "<circle clip-path=\"url(#clip752)\" cx=\"1593.94\" cy=\"423.045\" r=\"14.4\" fill=\"#000000\" fill-rule=\"evenodd\" fill-opacity=\"1\" stroke=\"none\"/>\n",
       "<circle clip-path=\"url(#clip752)\" cx=\"1709.97\" cy=\"345.758\" r=\"14.4\" fill=\"#000000\" fill-rule=\"evenodd\" fill-opacity=\"1\" stroke=\"none\"/>\n",
       "<circle clip-path=\"url(#clip752)\" cx=\"1709.97\" cy=\"393.708\" r=\"14.4\" fill=\"#000000\" fill-rule=\"evenodd\" fill-opacity=\"1\" stroke=\"none\"/>\n",
       "<circle clip-path=\"url(#clip752)\" cx=\"1825.99\" cy=\"413.349\" r=\"14.4\" fill=\"#000000\" fill-rule=\"evenodd\" fill-opacity=\"1\" stroke=\"none\"/>\n",
       "<circle clip-path=\"url(#clip752)\" cx=\"1825.99\" cy=\"303.003\" r=\"14.4\" fill=\"#000000\" fill-rule=\"evenodd\" fill-opacity=\"1\" stroke=\"none\"/>\n",
       "<circle clip-path=\"url(#clip752)\" cx=\"1942.02\" cy=\"234.438\" r=\"14.4\" fill=\"#000000\" fill-rule=\"evenodd\" fill-opacity=\"1\" stroke=\"none\"/>\n",
       "<circle clip-path=\"url(#clip752)\" cx=\"1942.02\" cy=\"291.362\" r=\"14.4\" fill=\"#000000\" fill-rule=\"evenodd\" fill-opacity=\"1\" stroke=\"none\"/>\n",
       "<circle clip-path=\"url(#clip752)\" cx=\"2058.05\" cy=\"173.039\" r=\"14.4\" fill=\"#000000\" fill-rule=\"evenodd\" fill-opacity=\"1\" stroke=\"none\"/>\n",
       "<circle clip-path=\"url(#clip752)\" cx=\"2058.05\" cy=\"156.503\" r=\"14.4\" fill=\"#000000\" fill-rule=\"evenodd\" fill-opacity=\"1\" stroke=\"none\"/>\n",
       "<circle clip-path=\"url(#clip752)\" cx=\"2174.07\" cy=\"288.161\" r=\"14.4\" fill=\"#000000\" fill-rule=\"evenodd\" fill-opacity=\"1\" stroke=\"none\"/>\n",
       "<circle clip-path=\"url(#clip752)\" cx=\"2174.07\" cy=\"256.392\" r=\"14.4\" fill=\"#000000\" fill-rule=\"evenodd\" fill-opacity=\"1\" stroke=\"none\"/>\n",
       "<circle clip-path=\"url(#clip752)\" cx=\"2290.1\" cy=\"186.504\" r=\"14.4\" fill=\"#000000\" fill-rule=\"evenodd\" fill-opacity=\"1\" stroke=\"none\"/>\n",
       "<circle clip-path=\"url(#clip752)\" cx=\"2290.1\" cy=\"87.9763\" r=\"14.4\" fill=\"#000000\" fill-rule=\"evenodd\" fill-opacity=\"1\" stroke=\"none\"/>\n",
       "</svg>\n"
      ]
     },
     "execution_count": 31,
     "metadata": {},
     "output_type": "execute_result"
    }
   ],
   "source": [
    "#Produce Synthetic Data\n",
    "xvals = repeat(1:0.5:10, inner=2)\n",
    "yvals = 3 .+ xvals .+ 2 .* rand(length(xvals)) .-1\n",
    "scatter(xvals, yvals, color=:black, leg=false)"
   ]
  },
  {
   "cell_type": "code",
   "execution_count": 32,
   "id": "591ffc5d",
   "metadata": {},
   "outputs": [
    {
     "data": {
      "text/plain": [
       "find_best_fit (generic function with 1 method)"
      ]
     },
     "execution_count": 32,
     "metadata": {},
     "output_type": "execute_result"
    }
   ],
   "source": [
    "#Setup for Linear Regression\n",
    "function find_best_fit(xvals,yvals)\n",
    "    meanx = mean(xvals)\n",
    "    meany = mean(yvals)\n",
    "    stdx = std(xvals)\n",
    "    stdy = std(yvals)\n",
    "    r = cor(xvals,yvals)\n",
    "    a = r*stdy/stdx\n",
    "    b = meany - a*meanx\n",
    "    return a,b\n",
    "end"
   ]
  },
  {
   "cell_type": "code",
   "execution_count": 33,
   "id": "157b05bc",
   "metadata": {},
   "outputs": [
    {
     "data": {
      "text/plain": [
       "38-element Vector{Float64}:\n",
       "  4.14223387643296\n",
       "  4.14223387643296\n",
       "  4.623753503327261\n",
       "  4.623753503327261\n",
       "  5.105273130221562\n",
       "  5.105273130221562\n",
       "  5.586792757115863\n",
       "  5.586792757115863\n",
       "  6.068312384010165\n",
       "  6.068312384010165\n",
       "  6.549832010904465\n",
       "  6.549832010904465\n",
       "  7.0313516377987675\n",
       "  ⋮\n",
       " 10.401989026058875\n",
       " 10.401989026058875\n",
       " 10.883508652953177\n",
       " 10.883508652953177\n",
       " 11.365028279847479\n",
       " 11.365028279847479\n",
       " 11.84654790674178\n",
       " 11.84654790674178\n",
       " 12.32806753363608\n",
       " 12.32806753363608\n",
       " 12.80958716053038\n",
       " 12.80958716053038"
      ]
     },
     "execution_count": 33,
     "metadata": {},
     "output_type": "execute_result"
    }
   ],
   "source": [
    "a,b = find_best_fit(xvals,yvals)\n",
    "ynew = a .* xvals .+ b"
   ]
  },
  {
   "cell_type": "code",
   "execution_count": 34,
   "id": "9e21983f",
   "metadata": {},
   "outputs": [],
   "source": [
    "np = pyimport(\"numpy\"); #import numpy as np, essentially"
   ]
  },
  {
   "cell_type": "code",
   "execution_count": 35,
   "id": "f65d90bb",
   "metadata": {},
   "outputs": [
    {
     "name": "stdout",
     "output_type": "stream",
     "text": [
      "  1.463274 seconds (1.81 M allocations: 96.372 MiB, 5.09% gc time, 70.30% compilation time)\n"
     ]
    },
    {
     "data": {
      "image/svg+xml": [
       "<?xml version=\"1.0\" encoding=\"utf-8\"?>\n",
       "<svg xmlns=\"http://www.w3.org/2000/svg\" xmlns:xlink=\"http://www.w3.org/1999/xlink\" width=\"600\" height=\"400\" viewBox=\"0 0 2400 1600\">\n",
       "<defs>\n",
       "  <clipPath id=\"clip790\">\n",
       "    <rect x=\"0\" y=\"0\" width=\"2400\" height=\"1600\"/>\n",
       "  </clipPath>\n",
       "</defs>\n",
       "<path clip-path=\"url(#clip790)\" d=\"\n",
       "M0 1600 L2400 1600 L2400 0 L0 0  Z\n",
       "  \" fill=\"#ffffff\" fill-rule=\"evenodd\" fill-opacity=\"1\"/>\n",
       "<defs>\n",
       "  <clipPath id=\"clip791\">\n",
       "    <rect x=\"480\" y=\"0\" width=\"1681\" height=\"1600\"/>\n",
       "  </clipPath>\n",
       "</defs>\n",
       "<path clip-path=\"url(#clip790)\" d=\"\n",
       "M138.959 1486.45 L2352.76 1486.45 L2352.76 47.2441 L138.959 47.2441  Z\n",
       "  \" fill=\"#ffffff\" fill-rule=\"evenodd\" fill-opacity=\"1\"/>\n",
       "<defs>\n",
       "  <clipPath id=\"clip792\">\n",
       "    <rect x=\"138\" y=\"47\" width=\"2215\" height=\"1440\"/>\n",
       "  </clipPath>\n",
       "</defs>\n",
       "<polyline clip-path=\"url(#clip792)\" style=\"stroke:#000000; stroke-linecap:round; stroke-linejoin:round; stroke-width:2; stroke-opacity:0.1; fill:none\" points=\"\n",
       "  433.668,1486.45 433.668,47.2441 \n",
       "  \"/>\n",
       "<polyline clip-path=\"url(#clip792)\" style=\"stroke:#000000; stroke-linecap:round; stroke-linejoin:round; stroke-width:2; stroke-opacity:0.1; fill:none\" points=\"\n",
       "  897.776,1486.45 897.776,47.2441 \n",
       "  \"/>\n",
       "<polyline clip-path=\"url(#clip792)\" style=\"stroke:#000000; stroke-linecap:round; stroke-linejoin:round; stroke-width:2; stroke-opacity:0.1; fill:none\" points=\"\n",
       "  1361.88,1486.45 1361.88,47.2441 \n",
       "  \"/>\n",
       "<polyline clip-path=\"url(#clip792)\" style=\"stroke:#000000; stroke-linecap:round; stroke-linejoin:round; stroke-width:2; stroke-opacity:0.1; fill:none\" points=\"\n",
       "  1825.99,1486.45 1825.99,47.2441 \n",
       "  \"/>\n",
       "<polyline clip-path=\"url(#clip792)\" style=\"stroke:#000000; stroke-linecap:round; stroke-linejoin:round; stroke-width:2; stroke-opacity:0.1; fill:none\" points=\"\n",
       "  2290.1,1486.45 2290.1,47.2441 \n",
       "  \"/>\n",
       "<polyline clip-path=\"url(#clip790)\" style=\"stroke:#000000; stroke-linecap:round; stroke-linejoin:round; stroke-width:4; stroke-opacity:1; fill:none\" points=\"\n",
       "  138.959,1486.45 2352.76,1486.45 \n",
       "  \"/>\n",
       "<polyline clip-path=\"url(#clip790)\" style=\"stroke:#000000; stroke-linecap:round; stroke-linejoin:round; stroke-width:4; stroke-opacity:1; fill:none\" points=\"\n",
       "  433.668,1486.45 433.668,1467.55 \n",
       "  \"/>\n",
       "<polyline clip-path=\"url(#clip790)\" style=\"stroke:#000000; stroke-linecap:round; stroke-linejoin:round; stroke-width:4; stroke-opacity:1; fill:none\" points=\"\n",
       "  897.776,1486.45 897.776,1467.55 \n",
       "  \"/>\n",
       "<polyline clip-path=\"url(#clip790)\" style=\"stroke:#000000; stroke-linecap:round; stroke-linejoin:round; stroke-width:4; stroke-opacity:1; fill:none\" points=\"\n",
       "  1361.88,1486.45 1361.88,1467.55 \n",
       "  \"/>\n",
       "<polyline clip-path=\"url(#clip790)\" style=\"stroke:#000000; stroke-linecap:round; stroke-linejoin:round; stroke-width:4; stroke-opacity:1; fill:none\" points=\"\n",
       "  1825.99,1486.45 1825.99,1467.55 \n",
       "  \"/>\n",
       "<polyline clip-path=\"url(#clip790)\" style=\"stroke:#000000; stroke-linecap:round; stroke-linejoin:round; stroke-width:4; stroke-opacity:1; fill:none\" points=\"\n",
       "  2290.1,1486.45 2290.1,1467.55 \n",
       "  \"/>\n",
       "<path clip-path=\"url(#clip790)\" d=\"M428.321 1544.91 L444.64 1544.91 L444.64 1548.85 L422.696 1548.85 L422.696 1544.91 Q425.358 1542.16 429.941 1537.53 Q434.548 1532.88 435.728 1531.53 Q437.974 1529.01 438.853 1527.27 Q439.756 1525.51 439.756 1523.82 Q439.756 1521.07 437.812 1519.33 Q435.89 1517.6 432.789 1517.6 Q430.59 1517.6 428.136 1518.36 Q425.705 1519.13 422.928 1520.68 L422.928 1515.95 Q425.752 1514.82 428.205 1514.24 Q430.659 1513.66 432.696 1513.66 Q438.066 1513.66 441.261 1516.35 Q444.455 1519.03 444.455 1523.52 Q444.455 1525.65 443.645 1527.57 Q442.858 1529.47 440.751 1532.07 Q440.173 1532.74 437.071 1535.95 Q433.969 1539.15 428.321 1544.91 Z\" fill=\"#000000\" fill-rule=\"evenodd\" fill-opacity=\"1\" /><path clip-path=\"url(#clip790)\" d=\"M900.786 1518.36 L888.98 1536.81 L900.786 1536.81 L900.786 1518.36 M899.559 1514.29 L905.438 1514.29 L905.438 1536.81 L910.369 1536.81 L910.369 1540.7 L905.438 1540.7 L905.438 1548.85 L900.786 1548.85 L900.786 1540.7 L885.184 1540.7 L885.184 1536.19 L899.559 1514.29 Z\" fill=\"#000000\" fill-rule=\"evenodd\" fill-opacity=\"1\" /><path clip-path=\"url(#clip790)\" d=\"M1362.29 1529.7 Q1359.14 1529.7 1357.29 1531.86 Q1355.46 1534.01 1355.46 1537.76 Q1355.46 1541.49 1357.29 1543.66 Q1359.14 1545.82 1362.29 1545.82 Q1365.44 1545.82 1367.27 1543.66 Q1369.12 1541.49 1369.12 1537.76 Q1369.12 1534.01 1367.27 1531.86 Q1365.44 1529.7 1362.29 1529.7 M1371.57 1515.05 L1371.57 1519.31 Q1369.81 1518.48 1368.01 1518.04 Q1366.22 1517.6 1364.47 1517.6 Q1359.84 1517.6 1357.38 1520.72 Q1354.95 1523.85 1354.6 1530.17 Q1355.97 1528.15 1358.03 1527.09 Q1360.09 1526 1362.57 1526 Q1367.78 1526 1370.79 1529.17 Q1373.82 1532.32 1373.82 1537.76 Q1373.82 1543.08 1370.67 1546.3 Q1367.52 1549.52 1362.29 1549.52 Q1356.29 1549.52 1353.12 1544.94 Q1349.95 1540.33 1349.95 1531.6 Q1349.95 1523.41 1353.84 1518.55 Q1357.73 1513.66 1364.28 1513.66 Q1366.04 1513.66 1367.82 1514.01 Q1369.63 1514.36 1371.57 1515.05 Z\" fill=\"#000000\" fill-rule=\"evenodd\" fill-opacity=\"1\" /><path clip-path=\"url(#clip790)\" d=\"M1825.99 1532.44 Q1822.66 1532.44 1820.74 1534.22 Q1818.84 1536 1818.84 1539.13 Q1818.84 1542.25 1820.74 1544.03 Q1822.66 1545.82 1825.99 1545.82 Q1829.33 1545.82 1831.25 1544.03 Q1833.17 1542.23 1833.17 1539.13 Q1833.17 1536 1831.25 1534.22 Q1829.35 1532.44 1825.99 1532.44 M1821.32 1530.45 Q1818.31 1529.7 1816.62 1527.64 Q1814.95 1525.58 1814.95 1522.62 Q1814.95 1518.48 1817.89 1516.07 Q1820.85 1513.66 1825.99 1513.66 Q1831.16 1513.66 1834.09 1516.07 Q1837.03 1518.48 1837.03 1522.62 Q1837.03 1525.58 1835.34 1527.64 Q1833.68 1529.7 1830.69 1530.45 Q1834.07 1531.23 1835.95 1533.52 Q1837.84 1535.82 1837.84 1539.13 Q1837.84 1544.15 1834.77 1546.83 Q1831.71 1549.52 1825.99 1549.52 Q1820.28 1549.52 1817.2 1546.83 Q1814.14 1544.15 1814.14 1539.13 Q1814.14 1535.82 1816.04 1533.52 Q1817.94 1531.23 1821.32 1530.45 M1819.6 1523.06 Q1819.6 1525.75 1821.27 1527.25 Q1822.96 1528.76 1825.99 1528.76 Q1829 1528.76 1830.69 1527.25 Q1832.41 1525.75 1832.41 1523.06 Q1832.41 1520.38 1830.69 1518.87 Q1829 1517.37 1825.99 1517.37 Q1822.96 1517.37 1821.27 1518.87 Q1819.6 1520.38 1819.6 1523.06 Z\" fill=\"#000000\" fill-rule=\"evenodd\" fill-opacity=\"1\" /><path clip-path=\"url(#clip790)\" d=\"M2264.79 1544.91 L2272.43 1544.91 L2272.43 1518.55 L2264.12 1520.21 L2264.12 1515.95 L2272.38 1514.29 L2277.06 1514.29 L2277.06 1544.91 L2284.7 1544.91 L2284.7 1548.85 L2264.79 1548.85 L2264.79 1544.91 Z\" fill=\"#000000\" fill-rule=\"evenodd\" fill-opacity=\"1\" /><path clip-path=\"url(#clip790)\" d=\"M2304.14 1517.37 Q2300.53 1517.37 2298.7 1520.93 Q2296.9 1524.47 2296.9 1531.6 Q2296.9 1538.71 2298.7 1542.27 Q2300.53 1545.82 2304.14 1545.82 Q2307.77 1545.82 2309.58 1542.27 Q2311.41 1538.71 2311.41 1531.6 Q2311.41 1524.47 2309.58 1520.93 Q2307.77 1517.37 2304.14 1517.37 M2304.14 1513.66 Q2309.95 1513.66 2313.01 1518.27 Q2316.08 1522.85 2316.08 1531.6 Q2316.08 1540.33 2313.01 1544.94 Q2309.95 1549.52 2304.14 1549.52 Q2298.33 1549.52 2295.25 1544.94 Q2292.2 1540.33 2292.2 1531.6 Q2292.2 1522.85 2295.25 1518.27 Q2298.33 1513.66 2304.14 1513.66 Z\" fill=\"#000000\" fill-rule=\"evenodd\" fill-opacity=\"1\" /><polyline clip-path=\"url(#clip792)\" style=\"stroke:#000000; stroke-linecap:round; stroke-linejoin:round; stroke-width:2; stroke-opacity:0.1; fill:none\" points=\"\n",
       "  138.959,1380.81 2352.76,1380.81 \n",
       "  \"/>\n",
       "<polyline clip-path=\"url(#clip792)\" style=\"stroke:#000000; stroke-linecap:round; stroke-linejoin:round; stroke-width:2; stroke-opacity:0.1; fill:none\" points=\"\n",
       "  138.959,1089.52 2352.76,1089.52 \n",
       "  \"/>\n",
       "<polyline clip-path=\"url(#clip792)\" style=\"stroke:#000000; stroke-linecap:round; stroke-linejoin:round; stroke-width:2; stroke-opacity:0.1; fill:none\" points=\"\n",
       "  138.959,798.227 2352.76,798.227 \n",
       "  \"/>\n",
       "<polyline clip-path=\"url(#clip792)\" style=\"stroke:#000000; stroke-linecap:round; stroke-linejoin:round; stroke-width:2; stroke-opacity:0.1; fill:none\" points=\"\n",
       "  138.959,506.934 2352.76,506.934 \n",
       "  \"/>\n",
       "<polyline clip-path=\"url(#clip792)\" style=\"stroke:#000000; stroke-linecap:round; stroke-linejoin:round; stroke-width:2; stroke-opacity:0.1; fill:none\" points=\"\n",
       "  138.959,215.64 2352.76,215.64 \n",
       "  \"/>\n",
       "<polyline clip-path=\"url(#clip790)\" style=\"stroke:#000000; stroke-linecap:round; stroke-linejoin:round; stroke-width:4; stroke-opacity:1; fill:none\" points=\"\n",
       "  138.959,1486.45 138.959,47.2441 \n",
       "  \"/>\n",
       "<polyline clip-path=\"url(#clip790)\" style=\"stroke:#000000; stroke-linecap:round; stroke-linejoin:round; stroke-width:4; stroke-opacity:1; fill:none\" points=\"\n",
       "  138.959,1380.81 157.857,1380.81 \n",
       "  \"/>\n",
       "<polyline clip-path=\"url(#clip790)\" style=\"stroke:#000000; stroke-linecap:round; stroke-linejoin:round; stroke-width:4; stroke-opacity:1; fill:none\" points=\"\n",
       "  138.959,1089.52 157.857,1089.52 \n",
       "  \"/>\n",
       "<polyline clip-path=\"url(#clip790)\" style=\"stroke:#000000; stroke-linecap:round; stroke-linejoin:round; stroke-width:4; stroke-opacity:1; fill:none\" points=\"\n",
       "  138.959,798.227 157.857,798.227 \n",
       "  \"/>\n",
       "<polyline clip-path=\"url(#clip790)\" style=\"stroke:#000000; stroke-linecap:round; stroke-linejoin:round; stroke-width:4; stroke-opacity:1; fill:none\" points=\"\n",
       "  138.959,506.934 157.857,506.934 \n",
       "  \"/>\n",
       "<polyline clip-path=\"url(#clip790)\" style=\"stroke:#000000; stroke-linecap:round; stroke-linejoin:round; stroke-width:4; stroke-opacity:1; fill:none\" points=\"\n",
       "  138.959,215.64 157.857,215.64 \n",
       "  \"/>\n",
       "<path clip-path=\"url(#clip790)\" d=\"M93.3762 1367.61 L81.5707 1386.06 L93.3762 1386.06 L93.3762 1367.61 M92.1493 1363.53 L98.0289 1363.53 L98.0289 1386.06 L102.959 1386.06 L102.959 1389.95 L98.0289 1389.95 L98.0289 1398.09 L93.3762 1398.09 L93.3762 1389.95 L77.7744 1389.95 L77.7744 1385.43 L92.1493 1363.53 Z\" fill=\"#000000\" fill-rule=\"evenodd\" fill-opacity=\"1\" /><path clip-path=\"url(#clip790)\" d=\"M91.4317 1087.66 Q88.2836 1087.66 86.4318 1089.81 Q84.6031 1091.96 84.6031 1095.71 Q84.6031 1099.44 86.4318 1101.62 Q88.2836 1103.77 91.4317 1103.77 Q94.5799 1103.77 96.4085 1101.62 Q98.2604 1099.44 98.2604 1095.71 Q98.2604 1091.96 96.4085 1089.81 Q94.5799 1087.66 91.4317 1087.66 M100.714 1073 L100.714 1077.26 Q98.9548 1076.43 97.1493 1075.99 Q95.3669 1075.55 93.6076 1075.55 Q88.978 1075.55 86.5243 1078.68 Q84.0938 1081.8 83.7466 1088.12 Q85.1123 1086.11 87.1725 1085.04 Q89.2327 1083.95 91.7095 1083.95 Q96.9178 1083.95 99.927 1087.12 Q102.959 1090.27 102.959 1095.71 Q102.959 1101.04 99.8113 1104.25 Q96.6632 1107.47 91.4317 1107.47 Q85.4364 1107.47 82.2651 1102.89 Q79.0938 1098.28 79.0938 1089.56 Q79.0938 1081.36 82.9827 1076.5 Q86.8716 1071.62 93.4225 1071.62 Q95.1817 1071.62 96.9641 1071.96 Q98.7696 1072.31 100.714 1073 Z\" fill=\"#000000\" fill-rule=\"evenodd\" fill-opacity=\"1\" /><path clip-path=\"url(#clip790)\" d=\"M91.1077 799.095 Q87.7743 799.095 85.8531 800.878 Q83.9549 802.66 83.9549 805.785 Q83.9549 808.91 85.8531 810.692 Q87.7743 812.475 91.1077 812.475 Q94.441 812.475 96.3623 810.692 Q98.2835 808.887 98.2835 805.785 Q98.2835 802.66 96.3623 800.878 Q94.4641 799.095 91.1077 799.095 M86.4318 797.104 Q83.4225 796.364 81.7327 794.304 Q80.066 792.243 80.066 789.28 Q80.066 785.137 83.0058 782.73 Q85.9688 780.322 91.1077 780.322 Q96.2697 780.322 99.2095 782.73 Q102.149 785.137 102.149 789.28 Q102.149 792.243 100.459 794.304 Q98.7928 796.364 95.8067 797.104 Q99.1863 797.891 101.061 800.183 Q102.959 802.475 102.959 805.785 Q102.959 810.808 99.8808 813.493 Q96.8252 816.178 91.1077 816.178 Q85.3901 816.178 82.3114 813.493 Q79.2559 810.808 79.2559 805.785 Q79.2559 802.475 81.154 800.183 Q83.0521 797.891 86.4318 797.104 M84.7188 789.72 Q84.7188 792.405 86.3855 793.91 Q88.0753 795.415 91.1077 795.415 Q94.1169 795.415 95.8067 793.91 Q97.5197 792.405 97.5197 789.72 Q97.5197 787.035 95.8067 785.53 Q94.1169 784.026 91.1077 784.026 Q88.0753 784.026 86.3855 785.53 Q84.7188 787.035 84.7188 789.72 Z\" fill=\"#000000\" fill-rule=\"evenodd\" fill-opacity=\"1\" /><path clip-path=\"url(#clip790)\" d=\"M51.6634 520.278 L59.3023 520.278 L59.3023 493.913 L50.9921 495.579 L50.9921 491.32 L59.256 489.654 L63.9319 489.654 L63.9319 520.278 L71.5707 520.278 L71.5707 524.214 L51.6634 524.214 L51.6634 520.278 Z\" fill=\"#000000\" fill-rule=\"evenodd\" fill-opacity=\"1\" /><path clip-path=\"url(#clip790)\" d=\"M91.0151 492.732 Q87.404 492.732 85.5753 496.297 Q83.7697 499.839 83.7697 506.968 Q83.7697 514.075 85.5753 517.639 Q87.404 521.181 91.0151 521.181 Q94.6493 521.181 96.4548 517.639 Q98.2835 514.075 98.2835 506.968 Q98.2835 499.839 96.4548 496.297 Q94.6493 492.732 91.0151 492.732 M91.0151 489.029 Q96.8252 489.029 99.8808 493.635 Q102.959 498.218 102.959 506.968 Q102.959 515.695 99.8808 520.301 Q96.8252 524.885 91.0151 524.885 Q85.2049 524.885 82.1262 520.301 Q79.0707 515.695 79.0707 506.968 Q79.0707 498.218 82.1262 493.635 Q85.2049 489.029 91.0151 489.029 Z\" fill=\"#000000\" fill-rule=\"evenodd\" fill-opacity=\"1\" /><path clip-path=\"url(#clip790)\" d=\"M53.2606 228.985 L60.8995 228.985 L60.8995 202.619 L52.5893 204.286 L52.5893 200.027 L60.8532 198.36 L65.5291 198.36 L65.5291 228.985 L73.1679 228.985 L73.1679 232.92 L53.2606 232.92 L53.2606 228.985 Z\" fill=\"#000000\" fill-rule=\"evenodd\" fill-opacity=\"1\" /><path clip-path=\"url(#clip790)\" d=\"M86.6401 228.985 L102.959 228.985 L102.959 232.92 L81.0151 232.92 L81.0151 228.985 Q83.6771 226.23 88.2604 221.601 Q92.8669 216.948 94.0475 215.605 Q96.2928 213.082 97.1724 211.346 Q98.0752 209.587 98.0752 207.897 Q98.0752 205.142 96.1308 203.406 Q94.2095 201.67 91.1077 201.67 Q88.9086 201.67 86.4549 202.434 Q84.0244 203.198 81.2466 204.749 L81.2466 200.027 Q84.0707 198.892 86.5243 198.314 Q88.978 197.735 91.0151 197.735 Q96.3854 197.735 99.5798 200.42 Q102.774 203.105 102.774 207.596 Q102.774 209.726 101.964 211.647 Q101.177 213.545 99.0706 216.138 Q98.4919 216.809 95.39 220.026 Q92.2882 223.221 86.6401 228.985 Z\" fill=\"#000000\" fill-rule=\"evenodd\" fill-opacity=\"1\" /><circle clip-path=\"url(#clip792)\" cx=\"201.614\" cy=\"1369.76\" r=\"14.4\" fill=\"#009af9\" fill-rule=\"evenodd\" fill-opacity=\"1\" stroke=\"#000000\" stroke-opacity=\"1\" stroke-width=\"3.2\"/>\n",
       "<circle clip-path=\"url(#clip792)\" cx=\"201.614\" cy=\"1263.48\" r=\"14.4\" fill=\"#009af9\" fill-rule=\"evenodd\" fill-opacity=\"1\" stroke=\"#000000\" stroke-opacity=\"1\" stroke-width=\"3.2\"/>\n",
       "<circle clip-path=\"url(#clip792)\" cx=\"317.641\" cy=\"1352.1\" r=\"14.4\" fill=\"#009af9\" fill-rule=\"evenodd\" fill-opacity=\"1\" stroke=\"#000000\" stroke-opacity=\"1\" stroke-width=\"3.2\"/>\n",
       "<circle clip-path=\"url(#clip792)\" cx=\"317.641\" cy=\"1445.72\" r=\"14.4\" fill=\"#009af9\" fill-rule=\"evenodd\" fill-opacity=\"1\" stroke=\"#000000\" stroke-opacity=\"1\" stroke-width=\"3.2\"/>\n",
       "<circle clip-path=\"url(#clip792)\" cx=\"433.668\" cy=\"1239.24\" r=\"14.4\" fill=\"#009af9\" fill-rule=\"evenodd\" fill-opacity=\"1\" stroke=\"#000000\" stroke-opacity=\"1\" stroke-width=\"3.2\"/>\n",
       "<circle clip-path=\"url(#clip792)\" cx=\"433.668\" cy=\"1223.25\" r=\"14.4\" fill=\"#009af9\" fill-rule=\"evenodd\" fill-opacity=\"1\" stroke=\"#000000\" stroke-opacity=\"1\" stroke-width=\"3.2\"/>\n",
       "<circle clip-path=\"url(#clip792)\" cx=\"549.695\" cy=\"1101.19\" r=\"14.4\" fill=\"#009af9\" fill-rule=\"evenodd\" fill-opacity=\"1\" stroke=\"#000000\" stroke-opacity=\"1\" stroke-width=\"3.2\"/>\n",
       "<circle clip-path=\"url(#clip792)\" cx=\"549.695\" cy=\"1144.58\" r=\"14.4\" fill=\"#009af9\" fill-rule=\"evenodd\" fill-opacity=\"1\" stroke=\"#000000\" stroke-opacity=\"1\" stroke-width=\"3.2\"/>\n",
       "<circle clip-path=\"url(#clip792)\" cx=\"665.722\" cy=\"1044.42\" r=\"14.4\" fill=\"#009af9\" fill-rule=\"evenodd\" fill-opacity=\"1\" stroke=\"#000000\" stroke-opacity=\"1\" stroke-width=\"3.2\"/>\n",
       "<circle clip-path=\"url(#clip792)\" cx=\"665.722\" cy=\"1113.36\" r=\"14.4\" fill=\"#009af9\" fill-rule=\"evenodd\" fill-opacity=\"1\" stroke=\"#000000\" stroke-opacity=\"1\" stroke-width=\"3.2\"/>\n",
       "<circle clip-path=\"url(#clip792)\" cx=\"781.749\" cy=\"888.842\" r=\"14.4\" fill=\"#009af9\" fill-rule=\"evenodd\" fill-opacity=\"1\" stroke=\"#000000\" stroke-opacity=\"1\" stroke-width=\"3.2\"/>\n",
       "<circle clip-path=\"url(#clip792)\" cx=\"781.749\" cy=\"945.057\" r=\"14.4\" fill=\"#009af9\" fill-rule=\"evenodd\" fill-opacity=\"1\" stroke=\"#000000\" stroke-opacity=\"1\" stroke-width=\"3.2\"/>\n",
       "<circle clip-path=\"url(#clip792)\" cx=\"897.776\" cy=\"907.737\" r=\"14.4\" fill=\"#009af9\" fill-rule=\"evenodd\" fill-opacity=\"1\" stroke=\"#000000\" stroke-opacity=\"1\" stroke-width=\"3.2\"/>\n",
       "<circle clip-path=\"url(#clip792)\" cx=\"897.776\" cy=\"1007.15\" r=\"14.4\" fill=\"#009af9\" fill-rule=\"evenodd\" fill-opacity=\"1\" stroke=\"#000000\" stroke-opacity=\"1\" stroke-width=\"3.2\"/>\n",
       "<circle clip-path=\"url(#clip792)\" cx=\"1013.8\" cy=\"902.396\" r=\"14.4\" fill=\"#009af9\" fill-rule=\"evenodd\" fill-opacity=\"1\" stroke=\"#000000\" stroke-opacity=\"1\" stroke-width=\"3.2\"/>\n",
       "<circle clip-path=\"url(#clip792)\" cx=\"1013.8\" cy=\"884.621\" r=\"14.4\" fill=\"#009af9\" fill-rule=\"evenodd\" fill-opacity=\"1\" stroke=\"#000000\" stroke-opacity=\"1\" stroke-width=\"3.2\"/>\n",
       "<circle clip-path=\"url(#clip792)\" cx=\"1129.83\" cy=\"652.823\" r=\"14.4\" fill=\"#009af9\" fill-rule=\"evenodd\" fill-opacity=\"1\" stroke=\"#000000\" stroke-opacity=\"1\" stroke-width=\"3.2\"/>\n",
       "<circle clip-path=\"url(#clip792)\" cx=\"1129.83\" cy=\"883.899\" r=\"14.4\" fill=\"#009af9\" fill-rule=\"evenodd\" fill-opacity=\"1\" stroke=\"#000000\" stroke-opacity=\"1\" stroke-width=\"3.2\"/>\n",
       "<circle clip-path=\"url(#clip792)\" cx=\"1245.86\" cy=\"834.386\" r=\"14.4\" fill=\"#009af9\" fill-rule=\"evenodd\" fill-opacity=\"1\" stroke=\"#000000\" stroke-opacity=\"1\" stroke-width=\"3.2\"/>\n",
       "<circle clip-path=\"url(#clip792)\" cx=\"1245.86\" cy=\"706.017\" r=\"14.4\" fill=\"#009af9\" fill-rule=\"evenodd\" fill-opacity=\"1\" stroke=\"#000000\" stroke-opacity=\"1\" stroke-width=\"3.2\"/>\n",
       "<circle clip-path=\"url(#clip792)\" cx=\"1361.88\" cy=\"659.817\" r=\"14.4\" fill=\"#009af9\" fill-rule=\"evenodd\" fill-opacity=\"1\" stroke=\"#000000\" stroke-opacity=\"1\" stroke-width=\"3.2\"/>\n",
       "<circle clip-path=\"url(#clip792)\" cx=\"1361.88\" cy=\"732.932\" r=\"14.4\" fill=\"#009af9\" fill-rule=\"evenodd\" fill-opacity=\"1\" stroke=\"#000000\" stroke-opacity=\"1\" stroke-width=\"3.2\"/>\n",
       "<circle clip-path=\"url(#clip792)\" cx=\"1477.91\" cy=\"470.513\" r=\"14.4\" fill=\"#009af9\" fill-rule=\"evenodd\" fill-opacity=\"1\" stroke=\"#000000\" stroke-opacity=\"1\" stroke-width=\"3.2\"/>\n",
       "<circle clip-path=\"url(#clip792)\" cx=\"1477.91\" cy=\"724.065\" r=\"14.4\" fill=\"#009af9\" fill-rule=\"evenodd\" fill-opacity=\"1\" stroke=\"#000000\" stroke-opacity=\"1\" stroke-width=\"3.2\"/>\n",
       "<circle clip-path=\"url(#clip792)\" cx=\"1593.94\" cy=\"648.093\" r=\"14.4\" fill=\"#009af9\" fill-rule=\"evenodd\" fill-opacity=\"1\" stroke=\"#000000\" stroke-opacity=\"1\" stroke-width=\"3.2\"/>\n",
       "<circle clip-path=\"url(#clip792)\" cx=\"1593.94\" cy=\"423.045\" r=\"14.4\" fill=\"#009af9\" fill-rule=\"evenodd\" fill-opacity=\"1\" stroke=\"#000000\" stroke-opacity=\"1\" stroke-width=\"3.2\"/>\n",
       "<circle clip-path=\"url(#clip792)\" cx=\"1709.97\" cy=\"345.758\" r=\"14.4\" fill=\"#009af9\" fill-rule=\"evenodd\" fill-opacity=\"1\" stroke=\"#000000\" stroke-opacity=\"1\" stroke-width=\"3.2\"/>\n",
       "<circle clip-path=\"url(#clip792)\" cx=\"1709.97\" cy=\"393.708\" r=\"14.4\" fill=\"#009af9\" fill-rule=\"evenodd\" fill-opacity=\"1\" stroke=\"#000000\" stroke-opacity=\"1\" stroke-width=\"3.2\"/>\n",
       "<circle clip-path=\"url(#clip792)\" cx=\"1825.99\" cy=\"413.349\" r=\"14.4\" fill=\"#009af9\" fill-rule=\"evenodd\" fill-opacity=\"1\" stroke=\"#000000\" stroke-opacity=\"1\" stroke-width=\"3.2\"/>\n",
       "<circle clip-path=\"url(#clip792)\" cx=\"1825.99\" cy=\"303.003\" r=\"14.4\" fill=\"#009af9\" fill-rule=\"evenodd\" fill-opacity=\"1\" stroke=\"#000000\" stroke-opacity=\"1\" stroke-width=\"3.2\"/>\n",
       "<circle clip-path=\"url(#clip792)\" cx=\"1942.02\" cy=\"234.438\" r=\"14.4\" fill=\"#009af9\" fill-rule=\"evenodd\" fill-opacity=\"1\" stroke=\"#000000\" stroke-opacity=\"1\" stroke-width=\"3.2\"/>\n",
       "<circle clip-path=\"url(#clip792)\" cx=\"1942.02\" cy=\"291.362\" r=\"14.4\" fill=\"#009af9\" fill-rule=\"evenodd\" fill-opacity=\"1\" stroke=\"#000000\" stroke-opacity=\"1\" stroke-width=\"3.2\"/>\n",
       "<circle clip-path=\"url(#clip792)\" cx=\"2058.05\" cy=\"173.039\" r=\"14.4\" fill=\"#009af9\" fill-rule=\"evenodd\" fill-opacity=\"1\" stroke=\"#000000\" stroke-opacity=\"1\" stroke-width=\"3.2\"/>\n",
       "<circle clip-path=\"url(#clip792)\" cx=\"2058.05\" cy=\"156.503\" r=\"14.4\" fill=\"#009af9\" fill-rule=\"evenodd\" fill-opacity=\"1\" stroke=\"#000000\" stroke-opacity=\"1\" stroke-width=\"3.2\"/>\n",
       "<circle clip-path=\"url(#clip792)\" cx=\"2174.07\" cy=\"288.161\" r=\"14.4\" fill=\"#009af9\" fill-rule=\"evenodd\" fill-opacity=\"1\" stroke=\"#000000\" stroke-opacity=\"1\" stroke-width=\"3.2\"/>\n",
       "<circle clip-path=\"url(#clip792)\" cx=\"2174.07\" cy=\"256.392\" r=\"14.4\" fill=\"#009af9\" fill-rule=\"evenodd\" fill-opacity=\"1\" stroke=\"#000000\" stroke-opacity=\"1\" stroke-width=\"3.2\"/>\n",
       "<circle clip-path=\"url(#clip792)\" cx=\"2290.1\" cy=\"186.504\" r=\"14.4\" fill=\"#009af9\" fill-rule=\"evenodd\" fill-opacity=\"1\" stroke=\"#000000\" stroke-opacity=\"1\" stroke-width=\"3.2\"/>\n",
       "<circle clip-path=\"url(#clip792)\" cx=\"2290.1\" cy=\"87.9763\" r=\"14.4\" fill=\"#009af9\" fill-rule=\"evenodd\" fill-opacity=\"1\" stroke=\"#000000\" stroke-opacity=\"1\" stroke-width=\"3.2\"/>\n",
       "<polyline clip-path=\"url(#clip792)\" style=\"stroke:#e26f46; stroke-linecap:round; stroke-linejoin:round; stroke-width:4; stroke-opacity:1; fill:none\" points=\"\n",
       "  201.614,1360.1 201.614,1360.1 317.641,1289.97 433.668,1219.83 549.695,1149.7 665.722,1079.57 \n",
       "  781.749,1009.44 897.776,939.308 1013.8,869.176 1129.83,799.044 1245.86,728.912 \n",
       "  1361.88,658.78 1477.91,588.649 1593.94,518.517 1709.97,448.385 1825.99,378.253 \n",
       "  1942.02,308.122 2058.05,237.99 2174.07,167.858 2290.1,97.7261 \n",
       "  \"/>\n",
       "<polyline clip-path=\"url(#clip792)\" style=\"stroke:#3da44d; stroke-linecap:round; stroke-linejoin:round; stroke-width:4; stroke-opacity:1; fill:none\" points=\"\n",
       "  201.614,1360.1 201.614,1360.1 317.641,1289.97 433.668,1219.83 549.695,1149.7 665.722,1079.57 \n",
       "  781.749,1009.44 897.776,939.308 1013.8,869.176 1129.83,799.044 1245.86,728.912 \n",
       "  1361.88,658.78 1477.91,588.649 1593.94,518.517 1709.97,448.385 1825.99,378.253 \n",
       "  1942.02,308.122 2058.05,237.99 2174.07,167.858 2290.1,97.7261 \n",
       "  \"/>\n",
       "<path clip-path=\"url(#clip790)\" d=\"\n",
       "M212.753 302.578 L487.141 302.578 L487.141 95.2176 L212.753 95.2176  Z\n",
       "  \" fill=\"#ffffff\" fill-rule=\"evenodd\" fill-opacity=\"1\"/>\n",
       "<polyline clip-path=\"url(#clip790)\" style=\"stroke:#000000; stroke-linecap:round; stroke-linejoin:round; stroke-width:4; stroke-opacity:1; fill:none\" points=\"\n",
       "  212.753,302.578 487.141,302.578 487.141,95.2176 212.753,95.2176 212.753,302.578 \n",
       "  \"/>\n",
       "<circle clip-path=\"url(#clip790)\" cx=\"311.144\" cy=\"147.058\" r=\"23.04\" fill=\"#009af9\" fill-rule=\"evenodd\" fill-opacity=\"1\" stroke=\"#000000\" stroke-opacity=\"1\" stroke-width=\"5.12\"/>\n",
       "<path clip-path=\"url(#clip790)\" d=\"M423.377 166.745 Q421.572 171.375 419.859 172.787 Q418.146 174.199 415.275 174.199 L411.873 174.199 L411.873 170.634 L414.373 170.634 Q416.132 170.634 417.104 169.8 Q418.076 168.967 419.257 165.865 L420.021 163.921 L409.535 138.412 L414.048 138.412 L422.15 158.689 L430.252 138.412 L434.766 138.412 L423.377 166.745 Z\" fill=\"#000000\" fill-rule=\"evenodd\" fill-opacity=\"1\" /><path clip-path=\"url(#clip790)\" d=\"M442.058 160.402 L449.696 160.402 L449.696 134.037 L441.386 135.703 L441.386 131.444 L449.65 129.778 L454.326 129.778 L454.326 160.402 L461.965 160.402 L461.965 164.338 L442.058 164.338 L442.058 160.402 Z\" fill=\"#000000\" fill-rule=\"evenodd\" fill-opacity=\"1\" /><polyline clip-path=\"url(#clip790)\" style=\"stroke:#e26f46; stroke-linecap:round; stroke-linejoin:round; stroke-width:4; stroke-opacity:1; fill:none\" points=\"\n",
       "  237.35,198.898 384.937,198.898 \n",
       "  \"/>\n",
       "<path clip-path=\"url(#clip790)\" d=\"M423.377 218.585 Q421.572 223.215 419.859 224.627 Q418.146 226.039 415.275 226.039 L411.873 226.039 L411.873 222.474 L414.373 222.474 Q416.132 222.474 417.104 221.64 Q418.076 220.807 419.257 217.705 L420.021 215.761 L409.535 190.252 L414.048 190.252 L422.15 210.529 L430.252 190.252 L434.766 190.252 L423.377 218.585 Z\" fill=\"#000000\" fill-rule=\"evenodd\" fill-opacity=\"1\" /><path clip-path=\"url(#clip790)\" d=\"M445.275 212.242 L461.594 212.242 L461.594 216.178 L439.65 216.178 L439.65 212.242 Q442.312 209.488 446.895 204.858 Q451.502 200.205 452.682 198.863 Q454.928 196.34 455.807 194.604 Q456.71 192.844 456.71 191.155 Q456.71 188.4 454.766 186.664 Q452.845 184.928 449.743 184.928 Q447.544 184.928 445.09 185.692 Q442.659 186.455 439.882 188.006 L439.882 183.284 Q442.706 182.15 445.159 181.571 Q447.613 180.993 449.65 180.993 Q455.02 180.993 458.215 183.678 Q461.409 186.363 461.409 190.854 Q461.409 192.983 460.599 194.905 Q459.812 196.803 457.706 199.395 Q457.127 200.067 454.025 203.284 Q450.923 206.479 445.275 212.242 Z\" fill=\"#000000\" fill-rule=\"evenodd\" fill-opacity=\"1\" /><polyline clip-path=\"url(#clip790)\" style=\"stroke:#3da44d; stroke-linecap:round; stroke-linejoin:round; stroke-width:4; stroke-opacity:1; fill:none\" points=\"\n",
       "  237.35,250.738 384.937,250.738 \n",
       "  \"/>\n",
       "<path clip-path=\"url(#clip790)\" d=\"M423.377 270.425 Q421.572 275.055 419.859 276.467 Q418.146 277.879 415.275 277.879 L411.873 277.879 L411.873 274.314 L414.373 274.314 Q416.132 274.314 417.104 273.48 Q418.076 272.647 419.257 269.545 L420.021 267.601 L409.535 242.092 L414.048 242.092 L422.15 262.369 L430.252 242.092 L434.766 242.092 L423.377 270.425 Z\" fill=\"#000000\" fill-rule=\"evenodd\" fill-opacity=\"1\" /><path clip-path=\"url(#clip790)\" d=\"M455.414 249.383 Q458.77 250.101 460.645 252.369 Q462.544 254.638 462.544 257.971 Q462.544 263.087 459.025 265.888 Q455.507 268.689 449.025 268.689 Q446.849 268.689 444.534 268.249 Q442.243 267.832 439.789 266.976 L439.789 262.462 Q441.733 263.596 444.048 264.175 Q446.363 264.754 448.886 264.754 Q453.284 264.754 455.576 263.018 Q457.891 261.281 457.891 257.971 Q457.891 254.916 455.738 253.203 Q453.608 251.467 449.789 251.467 L445.761 251.467 L445.761 247.624 L449.974 247.624 Q453.423 247.624 455.252 246.258 Q457.081 244.87 457.081 242.277 Q457.081 239.615 455.182 238.203 Q453.307 236.768 449.789 236.768 Q447.868 236.768 445.669 237.184 Q443.47 237.601 440.831 238.481 L440.831 234.314 Q443.493 233.573 445.808 233.203 Q448.145 232.833 450.206 232.833 Q455.53 232.833 458.632 235.263 Q461.733 237.67 461.733 241.791 Q461.733 244.661 460.09 246.652 Q458.446 248.62 455.414 249.383 Z\" fill=\"#000000\" fill-rule=\"evenodd\" fill-opacity=\"1\" /></svg>\n"
      ]
     },
     "execution_count": 35,
     "metadata": {},
     "output_type": "execute_result"
    }
   ],
   "source": [
    "xdata = xvals\n",
    "ydata = yvals\n",
    "@time myfit = np.polyfit(xdata, ydata, 1);\n",
    "ynew2 = collect(xdata) .* myfit[1] .+ myfit[2];\n",
    "scatter(xvals,yvals)\n",
    "plot!(xvals,ynew)\n",
    "plot!(xvals,ynew2)"
   ]
  },
  {
   "cell_type": "code",
   "execution_count": 36,
   "id": "18fc8f2f",
   "metadata": {},
   "outputs": [
    {
     "name": "stderr",
     "output_type": "stream",
     "text": [
      "WARNING: both StatsBase and LIBSVM export \"predict\"; uses of it in module Main must be qualified\n"
     ]
    },
    {
     "ename": "LoadError",
     "evalue": "UndefVarError: predict not defined",
     "output_type": "error",
     "traceback": [
      "UndefVarError: predict not defined",
      "",
      "Stacktrace:",
      " [1] top-level scope",
      "   @ In[36]:3",
      " [2] eval",
      "   @ ./boot.jl:368 [inlined]",
      " [3] include_string(mapexpr::typeof(REPL.softscope), mod::Module, code::String, filename::String)",
      "   @ Base ./loading.jl:1428"
     ]
    }
   ],
   "source": [
    "data = DataFrame(X=xdata, Y=ydata)\n",
    "ols = lm(@formula(Y ~ X), data)\n",
    "plot!(xdata,predict(ols))"
   ]
  }
 ],
 "metadata": {
  "kernelspec": {
   "display_name": "Julia 1.8.1",
   "language": "julia",
   "name": "julia-1.8"
  },
  "language_info": {
   "file_extension": ".jl",
   "mimetype": "application/julia",
   "name": "julia",
   "version": "1.8.1"
  }
 },
 "nbformat": 4,
 "nbformat_minor": 5
}
